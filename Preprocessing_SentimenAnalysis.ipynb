{
  "nbformat": 4,
  "nbformat_minor": 0,
  "metadata": {
    "colab": {
      "provenance": [],
      "machine_shape": "hm",
      "gpuType": "T4"
    },
    "kernelspec": {
      "name": "python3",
      "display_name": "Python 3"
    },
    "language_info": {
      "name": "python"
    },
    "accelerator": "GPU",
    "widgets": {
      "application/vnd.jupyter.widget-state+json": {
        "592f019f03ab421c9d9fc91580dff2d7": {
          "model_module": "@jupyter-widgets/controls",
          "model_name": "HBoxModel",
          "model_module_version": "1.5.0",
          "state": {
            "_dom_classes": [],
            "_model_module": "@jupyter-widgets/controls",
            "_model_module_version": "1.5.0",
            "_model_name": "HBoxModel",
            "_view_count": null,
            "_view_module": "@jupyter-widgets/controls",
            "_view_module_version": "1.5.0",
            "_view_name": "HBoxView",
            "box_style": "",
            "children": [
              "IPY_MODEL_c876c22046f7480b80f4ac9e51a11cde",
              "IPY_MODEL_2e1e7a19a42242b0913bee8faa97f60b",
              "IPY_MODEL_05064d25da334921bfea8b672d703b02"
            ],
            "layout": "IPY_MODEL_04712d641d4941ecb1f342a1f305f25c"
          }
        },
        "c876c22046f7480b80f4ac9e51a11cde": {
          "model_module": "@jupyter-widgets/controls",
          "model_name": "HTMLModel",
          "model_module_version": "1.5.0",
          "state": {
            "_dom_classes": [],
            "_model_module": "@jupyter-widgets/controls",
            "_model_module_version": "1.5.0",
            "_model_name": "HTMLModel",
            "_view_count": null,
            "_view_module": "@jupyter-widgets/controls",
            "_view_module_version": "1.5.0",
            "_view_name": "HTMLView",
            "description": "",
            "description_tooltip": null,
            "layout": "IPY_MODEL_2237daa98a244eefb5f595e564d57f0e",
            "placeholder": "​",
            "style": "IPY_MODEL_ceb1eba972d747d88839c319fb654a95",
            "value": "Downloading (…)okenizer_config.json: 100%"
          }
        },
        "2e1e7a19a42242b0913bee8faa97f60b": {
          "model_module": "@jupyter-widgets/controls",
          "model_name": "FloatProgressModel",
          "model_module_version": "1.5.0",
          "state": {
            "_dom_classes": [],
            "_model_module": "@jupyter-widgets/controls",
            "_model_module_version": "1.5.0",
            "_model_name": "FloatProgressModel",
            "_view_count": null,
            "_view_module": "@jupyter-widgets/controls",
            "_view_module_version": "1.5.0",
            "_view_name": "ProgressView",
            "bar_style": "success",
            "description": "",
            "description_tooltip": null,
            "layout": "IPY_MODEL_e70516113d1a439195b17c44587629e8",
            "max": 28,
            "min": 0,
            "orientation": "horizontal",
            "style": "IPY_MODEL_6cf380114b254381a0572c88558437d2",
            "value": 28
          }
        },
        "05064d25da334921bfea8b672d703b02": {
          "model_module": "@jupyter-widgets/controls",
          "model_name": "HTMLModel",
          "model_module_version": "1.5.0",
          "state": {
            "_dom_classes": [],
            "_model_module": "@jupyter-widgets/controls",
            "_model_module_version": "1.5.0",
            "_model_name": "HTMLModel",
            "_view_count": null,
            "_view_module": "@jupyter-widgets/controls",
            "_view_module_version": "1.5.0",
            "_view_name": "HTMLView",
            "description": "",
            "description_tooltip": null,
            "layout": "IPY_MODEL_4cb2944d41704337b4450682e76aa125",
            "placeholder": "​",
            "style": "IPY_MODEL_42fa53e64db148ea8f2e6d50cff87c55",
            "value": " 28.0/28.0 [00:00&lt;00:00, 2.23kB/s]"
          }
        },
        "04712d641d4941ecb1f342a1f305f25c": {
          "model_module": "@jupyter-widgets/base",
          "model_name": "LayoutModel",
          "model_module_version": "1.2.0",
          "state": {
            "_model_module": "@jupyter-widgets/base",
            "_model_module_version": "1.2.0",
            "_model_name": "LayoutModel",
            "_view_count": null,
            "_view_module": "@jupyter-widgets/base",
            "_view_module_version": "1.2.0",
            "_view_name": "LayoutView",
            "align_content": null,
            "align_items": null,
            "align_self": null,
            "border": null,
            "bottom": null,
            "display": null,
            "flex": null,
            "flex_flow": null,
            "grid_area": null,
            "grid_auto_columns": null,
            "grid_auto_flow": null,
            "grid_auto_rows": null,
            "grid_column": null,
            "grid_gap": null,
            "grid_row": null,
            "grid_template_areas": null,
            "grid_template_columns": null,
            "grid_template_rows": null,
            "height": null,
            "justify_content": null,
            "justify_items": null,
            "left": null,
            "margin": null,
            "max_height": null,
            "max_width": null,
            "min_height": null,
            "min_width": null,
            "object_fit": null,
            "object_position": null,
            "order": null,
            "overflow": null,
            "overflow_x": null,
            "overflow_y": null,
            "padding": null,
            "right": null,
            "top": null,
            "visibility": null,
            "width": null
          }
        },
        "2237daa98a244eefb5f595e564d57f0e": {
          "model_module": "@jupyter-widgets/base",
          "model_name": "LayoutModel",
          "model_module_version": "1.2.0",
          "state": {
            "_model_module": "@jupyter-widgets/base",
            "_model_module_version": "1.2.0",
            "_model_name": "LayoutModel",
            "_view_count": null,
            "_view_module": "@jupyter-widgets/base",
            "_view_module_version": "1.2.0",
            "_view_name": "LayoutView",
            "align_content": null,
            "align_items": null,
            "align_self": null,
            "border": null,
            "bottom": null,
            "display": null,
            "flex": null,
            "flex_flow": null,
            "grid_area": null,
            "grid_auto_columns": null,
            "grid_auto_flow": null,
            "grid_auto_rows": null,
            "grid_column": null,
            "grid_gap": null,
            "grid_row": null,
            "grid_template_areas": null,
            "grid_template_columns": null,
            "grid_template_rows": null,
            "height": null,
            "justify_content": null,
            "justify_items": null,
            "left": null,
            "margin": null,
            "max_height": null,
            "max_width": null,
            "min_height": null,
            "min_width": null,
            "object_fit": null,
            "object_position": null,
            "order": null,
            "overflow": null,
            "overflow_x": null,
            "overflow_y": null,
            "padding": null,
            "right": null,
            "top": null,
            "visibility": null,
            "width": null
          }
        },
        "ceb1eba972d747d88839c319fb654a95": {
          "model_module": "@jupyter-widgets/controls",
          "model_name": "DescriptionStyleModel",
          "model_module_version": "1.5.0",
          "state": {
            "_model_module": "@jupyter-widgets/controls",
            "_model_module_version": "1.5.0",
            "_model_name": "DescriptionStyleModel",
            "_view_count": null,
            "_view_module": "@jupyter-widgets/base",
            "_view_module_version": "1.2.0",
            "_view_name": "StyleView",
            "description_width": ""
          }
        },
        "e70516113d1a439195b17c44587629e8": {
          "model_module": "@jupyter-widgets/base",
          "model_name": "LayoutModel",
          "model_module_version": "1.2.0",
          "state": {
            "_model_module": "@jupyter-widgets/base",
            "_model_module_version": "1.2.0",
            "_model_name": "LayoutModel",
            "_view_count": null,
            "_view_module": "@jupyter-widgets/base",
            "_view_module_version": "1.2.0",
            "_view_name": "LayoutView",
            "align_content": null,
            "align_items": null,
            "align_self": null,
            "border": null,
            "bottom": null,
            "display": null,
            "flex": null,
            "flex_flow": null,
            "grid_area": null,
            "grid_auto_columns": null,
            "grid_auto_flow": null,
            "grid_auto_rows": null,
            "grid_column": null,
            "grid_gap": null,
            "grid_row": null,
            "grid_template_areas": null,
            "grid_template_columns": null,
            "grid_template_rows": null,
            "height": null,
            "justify_content": null,
            "justify_items": null,
            "left": null,
            "margin": null,
            "max_height": null,
            "max_width": null,
            "min_height": null,
            "min_width": null,
            "object_fit": null,
            "object_position": null,
            "order": null,
            "overflow": null,
            "overflow_x": null,
            "overflow_y": null,
            "padding": null,
            "right": null,
            "top": null,
            "visibility": null,
            "width": null
          }
        },
        "6cf380114b254381a0572c88558437d2": {
          "model_module": "@jupyter-widgets/controls",
          "model_name": "ProgressStyleModel",
          "model_module_version": "1.5.0",
          "state": {
            "_model_module": "@jupyter-widgets/controls",
            "_model_module_version": "1.5.0",
            "_model_name": "ProgressStyleModel",
            "_view_count": null,
            "_view_module": "@jupyter-widgets/base",
            "_view_module_version": "1.2.0",
            "_view_name": "StyleView",
            "bar_color": null,
            "description_width": ""
          }
        },
        "4cb2944d41704337b4450682e76aa125": {
          "model_module": "@jupyter-widgets/base",
          "model_name": "LayoutModel",
          "model_module_version": "1.2.0",
          "state": {
            "_model_module": "@jupyter-widgets/base",
            "_model_module_version": "1.2.0",
            "_model_name": "LayoutModel",
            "_view_count": null,
            "_view_module": "@jupyter-widgets/base",
            "_view_module_version": "1.2.0",
            "_view_name": "LayoutView",
            "align_content": null,
            "align_items": null,
            "align_self": null,
            "border": null,
            "bottom": null,
            "display": null,
            "flex": null,
            "flex_flow": null,
            "grid_area": null,
            "grid_auto_columns": null,
            "grid_auto_flow": null,
            "grid_auto_rows": null,
            "grid_column": null,
            "grid_gap": null,
            "grid_row": null,
            "grid_template_areas": null,
            "grid_template_columns": null,
            "grid_template_rows": null,
            "height": null,
            "justify_content": null,
            "justify_items": null,
            "left": null,
            "margin": null,
            "max_height": null,
            "max_width": null,
            "min_height": null,
            "min_width": null,
            "object_fit": null,
            "object_position": null,
            "order": null,
            "overflow": null,
            "overflow_x": null,
            "overflow_y": null,
            "padding": null,
            "right": null,
            "top": null,
            "visibility": null,
            "width": null
          }
        },
        "42fa53e64db148ea8f2e6d50cff87c55": {
          "model_module": "@jupyter-widgets/controls",
          "model_name": "DescriptionStyleModel",
          "model_module_version": "1.5.0",
          "state": {
            "_model_module": "@jupyter-widgets/controls",
            "_model_module_version": "1.5.0",
            "_model_name": "DescriptionStyleModel",
            "_view_count": null,
            "_view_module": "@jupyter-widgets/base",
            "_view_module_version": "1.2.0",
            "_view_name": "StyleView",
            "description_width": ""
          }
        },
        "7fd064e7ca854c2bbde46122ddf108ba": {
          "model_module": "@jupyter-widgets/controls",
          "model_name": "HBoxModel",
          "model_module_version": "1.5.0",
          "state": {
            "_dom_classes": [],
            "_model_module": "@jupyter-widgets/controls",
            "_model_module_version": "1.5.0",
            "_model_name": "HBoxModel",
            "_view_count": null,
            "_view_module": "@jupyter-widgets/controls",
            "_view_module_version": "1.5.0",
            "_view_name": "HBoxView",
            "box_style": "",
            "children": [
              "IPY_MODEL_335e7eae3be447879a1bddcbacc06016",
              "IPY_MODEL_e4696230b3904473921b7d5ef16f6abd",
              "IPY_MODEL_7dbd4465911148ba9c9847414c99cf44"
            ],
            "layout": "IPY_MODEL_6beefa28ee234224b5636eb5af812be5"
          }
        },
        "335e7eae3be447879a1bddcbacc06016": {
          "model_module": "@jupyter-widgets/controls",
          "model_name": "HTMLModel",
          "model_module_version": "1.5.0",
          "state": {
            "_dom_classes": [],
            "_model_module": "@jupyter-widgets/controls",
            "_model_module_version": "1.5.0",
            "_model_name": "HTMLModel",
            "_view_count": null,
            "_view_module": "@jupyter-widgets/controls",
            "_view_module_version": "1.5.0",
            "_view_name": "HTMLView",
            "description": "",
            "description_tooltip": null,
            "layout": "IPY_MODEL_c8ba4ddcc31f4a1ebbdfefbdafcdbbc4",
            "placeholder": "​",
            "style": "IPY_MODEL_b3d3f553be414f4e8796aec20fc55ef3",
            "value": "Downloading (…)lve/main/config.json: 100%"
          }
        },
        "e4696230b3904473921b7d5ef16f6abd": {
          "model_module": "@jupyter-widgets/controls",
          "model_name": "FloatProgressModel",
          "model_module_version": "1.5.0",
          "state": {
            "_dom_classes": [],
            "_model_module": "@jupyter-widgets/controls",
            "_model_module_version": "1.5.0",
            "_model_name": "FloatProgressModel",
            "_view_count": null,
            "_view_module": "@jupyter-widgets/controls",
            "_view_module_version": "1.5.0",
            "_view_name": "ProgressView",
            "bar_style": "success",
            "description": "",
            "description_tooltip": null,
            "layout": "IPY_MODEL_70bd4512554346b4a7ee1665f9f6a452",
            "max": 570,
            "min": 0,
            "orientation": "horizontal",
            "style": "IPY_MODEL_8c1581b329614176a092465b5065859b",
            "value": 570
          }
        },
        "7dbd4465911148ba9c9847414c99cf44": {
          "model_module": "@jupyter-widgets/controls",
          "model_name": "HTMLModel",
          "model_module_version": "1.5.0",
          "state": {
            "_dom_classes": [],
            "_model_module": "@jupyter-widgets/controls",
            "_model_module_version": "1.5.0",
            "_model_name": "HTMLModel",
            "_view_count": null,
            "_view_module": "@jupyter-widgets/controls",
            "_view_module_version": "1.5.0",
            "_view_name": "HTMLView",
            "description": "",
            "description_tooltip": null,
            "layout": "IPY_MODEL_81904200cb9549c29d9ba19a9de0814a",
            "placeholder": "​",
            "style": "IPY_MODEL_332f769bb1c840e29484facf7ba5d932",
            "value": " 570/570 [00:00&lt;00:00, 47.8kB/s]"
          }
        },
        "6beefa28ee234224b5636eb5af812be5": {
          "model_module": "@jupyter-widgets/base",
          "model_name": "LayoutModel",
          "model_module_version": "1.2.0",
          "state": {
            "_model_module": "@jupyter-widgets/base",
            "_model_module_version": "1.2.0",
            "_model_name": "LayoutModel",
            "_view_count": null,
            "_view_module": "@jupyter-widgets/base",
            "_view_module_version": "1.2.0",
            "_view_name": "LayoutView",
            "align_content": null,
            "align_items": null,
            "align_self": null,
            "border": null,
            "bottom": null,
            "display": null,
            "flex": null,
            "flex_flow": null,
            "grid_area": null,
            "grid_auto_columns": null,
            "grid_auto_flow": null,
            "grid_auto_rows": null,
            "grid_column": null,
            "grid_gap": null,
            "grid_row": null,
            "grid_template_areas": null,
            "grid_template_columns": null,
            "grid_template_rows": null,
            "height": null,
            "justify_content": null,
            "justify_items": null,
            "left": null,
            "margin": null,
            "max_height": null,
            "max_width": null,
            "min_height": null,
            "min_width": null,
            "object_fit": null,
            "object_position": null,
            "order": null,
            "overflow": null,
            "overflow_x": null,
            "overflow_y": null,
            "padding": null,
            "right": null,
            "top": null,
            "visibility": null,
            "width": null
          }
        },
        "c8ba4ddcc31f4a1ebbdfefbdafcdbbc4": {
          "model_module": "@jupyter-widgets/base",
          "model_name": "LayoutModel",
          "model_module_version": "1.2.0",
          "state": {
            "_model_module": "@jupyter-widgets/base",
            "_model_module_version": "1.2.0",
            "_model_name": "LayoutModel",
            "_view_count": null,
            "_view_module": "@jupyter-widgets/base",
            "_view_module_version": "1.2.0",
            "_view_name": "LayoutView",
            "align_content": null,
            "align_items": null,
            "align_self": null,
            "border": null,
            "bottom": null,
            "display": null,
            "flex": null,
            "flex_flow": null,
            "grid_area": null,
            "grid_auto_columns": null,
            "grid_auto_flow": null,
            "grid_auto_rows": null,
            "grid_column": null,
            "grid_gap": null,
            "grid_row": null,
            "grid_template_areas": null,
            "grid_template_columns": null,
            "grid_template_rows": null,
            "height": null,
            "justify_content": null,
            "justify_items": null,
            "left": null,
            "margin": null,
            "max_height": null,
            "max_width": null,
            "min_height": null,
            "min_width": null,
            "object_fit": null,
            "object_position": null,
            "order": null,
            "overflow": null,
            "overflow_x": null,
            "overflow_y": null,
            "padding": null,
            "right": null,
            "top": null,
            "visibility": null,
            "width": null
          }
        },
        "b3d3f553be414f4e8796aec20fc55ef3": {
          "model_module": "@jupyter-widgets/controls",
          "model_name": "DescriptionStyleModel",
          "model_module_version": "1.5.0",
          "state": {
            "_model_module": "@jupyter-widgets/controls",
            "_model_module_version": "1.5.0",
            "_model_name": "DescriptionStyleModel",
            "_view_count": null,
            "_view_module": "@jupyter-widgets/base",
            "_view_module_version": "1.2.0",
            "_view_name": "StyleView",
            "description_width": ""
          }
        },
        "70bd4512554346b4a7ee1665f9f6a452": {
          "model_module": "@jupyter-widgets/base",
          "model_name": "LayoutModel",
          "model_module_version": "1.2.0",
          "state": {
            "_model_module": "@jupyter-widgets/base",
            "_model_module_version": "1.2.0",
            "_model_name": "LayoutModel",
            "_view_count": null,
            "_view_module": "@jupyter-widgets/base",
            "_view_module_version": "1.2.0",
            "_view_name": "LayoutView",
            "align_content": null,
            "align_items": null,
            "align_self": null,
            "border": null,
            "bottom": null,
            "display": null,
            "flex": null,
            "flex_flow": null,
            "grid_area": null,
            "grid_auto_columns": null,
            "grid_auto_flow": null,
            "grid_auto_rows": null,
            "grid_column": null,
            "grid_gap": null,
            "grid_row": null,
            "grid_template_areas": null,
            "grid_template_columns": null,
            "grid_template_rows": null,
            "height": null,
            "justify_content": null,
            "justify_items": null,
            "left": null,
            "margin": null,
            "max_height": null,
            "max_width": null,
            "min_height": null,
            "min_width": null,
            "object_fit": null,
            "object_position": null,
            "order": null,
            "overflow": null,
            "overflow_x": null,
            "overflow_y": null,
            "padding": null,
            "right": null,
            "top": null,
            "visibility": null,
            "width": null
          }
        },
        "8c1581b329614176a092465b5065859b": {
          "model_module": "@jupyter-widgets/controls",
          "model_name": "ProgressStyleModel",
          "model_module_version": "1.5.0",
          "state": {
            "_model_module": "@jupyter-widgets/controls",
            "_model_module_version": "1.5.0",
            "_model_name": "ProgressStyleModel",
            "_view_count": null,
            "_view_module": "@jupyter-widgets/base",
            "_view_module_version": "1.2.0",
            "_view_name": "StyleView",
            "bar_color": null,
            "description_width": ""
          }
        },
        "81904200cb9549c29d9ba19a9de0814a": {
          "model_module": "@jupyter-widgets/base",
          "model_name": "LayoutModel",
          "model_module_version": "1.2.0",
          "state": {
            "_model_module": "@jupyter-widgets/base",
            "_model_module_version": "1.2.0",
            "_model_name": "LayoutModel",
            "_view_count": null,
            "_view_module": "@jupyter-widgets/base",
            "_view_module_version": "1.2.0",
            "_view_name": "LayoutView",
            "align_content": null,
            "align_items": null,
            "align_self": null,
            "border": null,
            "bottom": null,
            "display": null,
            "flex": null,
            "flex_flow": null,
            "grid_area": null,
            "grid_auto_columns": null,
            "grid_auto_flow": null,
            "grid_auto_rows": null,
            "grid_column": null,
            "grid_gap": null,
            "grid_row": null,
            "grid_template_areas": null,
            "grid_template_columns": null,
            "grid_template_rows": null,
            "height": null,
            "justify_content": null,
            "justify_items": null,
            "left": null,
            "margin": null,
            "max_height": null,
            "max_width": null,
            "min_height": null,
            "min_width": null,
            "object_fit": null,
            "object_position": null,
            "order": null,
            "overflow": null,
            "overflow_x": null,
            "overflow_y": null,
            "padding": null,
            "right": null,
            "top": null,
            "visibility": null,
            "width": null
          }
        },
        "332f769bb1c840e29484facf7ba5d932": {
          "model_module": "@jupyter-widgets/controls",
          "model_name": "DescriptionStyleModel",
          "model_module_version": "1.5.0",
          "state": {
            "_model_module": "@jupyter-widgets/controls",
            "_model_module_version": "1.5.0",
            "_model_name": "DescriptionStyleModel",
            "_view_count": null,
            "_view_module": "@jupyter-widgets/base",
            "_view_module_version": "1.2.0",
            "_view_name": "StyleView",
            "description_width": ""
          }
        },
        "01206c52562d4c2b9aa72e4132d4bf16": {
          "model_module": "@jupyter-widgets/controls",
          "model_name": "HBoxModel",
          "model_module_version": "1.5.0",
          "state": {
            "_dom_classes": [],
            "_model_module": "@jupyter-widgets/controls",
            "_model_module_version": "1.5.0",
            "_model_name": "HBoxModel",
            "_view_count": null,
            "_view_module": "@jupyter-widgets/controls",
            "_view_module_version": "1.5.0",
            "_view_name": "HBoxView",
            "box_style": "",
            "children": [
              "IPY_MODEL_9950a999d94b4cdda16b8ac366205970",
              "IPY_MODEL_f7bd90bcc77341c9a52fb74e704f7a0e",
              "IPY_MODEL_382e6dc2cc2b49c08b66b5e59c7ac79e"
            ],
            "layout": "IPY_MODEL_d3eedd5a70d54544aa2459b34703dd40"
          }
        },
        "9950a999d94b4cdda16b8ac366205970": {
          "model_module": "@jupyter-widgets/controls",
          "model_name": "HTMLModel",
          "model_module_version": "1.5.0",
          "state": {
            "_dom_classes": [],
            "_model_module": "@jupyter-widgets/controls",
            "_model_module_version": "1.5.0",
            "_model_name": "HTMLModel",
            "_view_count": null,
            "_view_module": "@jupyter-widgets/controls",
            "_view_module_version": "1.5.0",
            "_view_name": "HTMLView",
            "description": "",
            "description_tooltip": null,
            "layout": "IPY_MODEL_a7cf0f62ece84b3eae1f1cded04ee288",
            "placeholder": "​",
            "style": "IPY_MODEL_71e985f2f029418b8ba776c88621ef7d",
            "value": "Downloading (…)solve/main/vocab.txt: 100%"
          }
        },
        "f7bd90bcc77341c9a52fb74e704f7a0e": {
          "model_module": "@jupyter-widgets/controls",
          "model_name": "FloatProgressModel",
          "model_module_version": "1.5.0",
          "state": {
            "_dom_classes": [],
            "_model_module": "@jupyter-widgets/controls",
            "_model_module_version": "1.5.0",
            "_model_name": "FloatProgressModel",
            "_view_count": null,
            "_view_module": "@jupyter-widgets/controls",
            "_view_module_version": "1.5.0",
            "_view_name": "ProgressView",
            "bar_style": "success",
            "description": "",
            "description_tooltip": null,
            "layout": "IPY_MODEL_8648fc8067794e11bd04e18dd7b187a5",
            "max": 231508,
            "min": 0,
            "orientation": "horizontal",
            "style": "IPY_MODEL_21e93570cd274f4c9b258b83a919a8ce",
            "value": 231508
          }
        },
        "382e6dc2cc2b49c08b66b5e59c7ac79e": {
          "model_module": "@jupyter-widgets/controls",
          "model_name": "HTMLModel",
          "model_module_version": "1.5.0",
          "state": {
            "_dom_classes": [],
            "_model_module": "@jupyter-widgets/controls",
            "_model_module_version": "1.5.0",
            "_model_name": "HTMLModel",
            "_view_count": null,
            "_view_module": "@jupyter-widgets/controls",
            "_view_module_version": "1.5.0",
            "_view_name": "HTMLView",
            "description": "",
            "description_tooltip": null,
            "layout": "IPY_MODEL_9a76b56c08e64b3a84f61b52cb4181a6",
            "placeholder": "​",
            "style": "IPY_MODEL_5b781e1532a4433282957554274c28e4",
            "value": " 232k/232k [00:00&lt;00:00, 3.65MB/s]"
          }
        },
        "d3eedd5a70d54544aa2459b34703dd40": {
          "model_module": "@jupyter-widgets/base",
          "model_name": "LayoutModel",
          "model_module_version": "1.2.0",
          "state": {
            "_model_module": "@jupyter-widgets/base",
            "_model_module_version": "1.2.0",
            "_model_name": "LayoutModel",
            "_view_count": null,
            "_view_module": "@jupyter-widgets/base",
            "_view_module_version": "1.2.0",
            "_view_name": "LayoutView",
            "align_content": null,
            "align_items": null,
            "align_self": null,
            "border": null,
            "bottom": null,
            "display": null,
            "flex": null,
            "flex_flow": null,
            "grid_area": null,
            "grid_auto_columns": null,
            "grid_auto_flow": null,
            "grid_auto_rows": null,
            "grid_column": null,
            "grid_gap": null,
            "grid_row": null,
            "grid_template_areas": null,
            "grid_template_columns": null,
            "grid_template_rows": null,
            "height": null,
            "justify_content": null,
            "justify_items": null,
            "left": null,
            "margin": null,
            "max_height": null,
            "max_width": null,
            "min_height": null,
            "min_width": null,
            "object_fit": null,
            "object_position": null,
            "order": null,
            "overflow": null,
            "overflow_x": null,
            "overflow_y": null,
            "padding": null,
            "right": null,
            "top": null,
            "visibility": null,
            "width": null
          }
        },
        "a7cf0f62ece84b3eae1f1cded04ee288": {
          "model_module": "@jupyter-widgets/base",
          "model_name": "LayoutModel",
          "model_module_version": "1.2.0",
          "state": {
            "_model_module": "@jupyter-widgets/base",
            "_model_module_version": "1.2.0",
            "_model_name": "LayoutModel",
            "_view_count": null,
            "_view_module": "@jupyter-widgets/base",
            "_view_module_version": "1.2.0",
            "_view_name": "LayoutView",
            "align_content": null,
            "align_items": null,
            "align_self": null,
            "border": null,
            "bottom": null,
            "display": null,
            "flex": null,
            "flex_flow": null,
            "grid_area": null,
            "grid_auto_columns": null,
            "grid_auto_flow": null,
            "grid_auto_rows": null,
            "grid_column": null,
            "grid_gap": null,
            "grid_row": null,
            "grid_template_areas": null,
            "grid_template_columns": null,
            "grid_template_rows": null,
            "height": null,
            "justify_content": null,
            "justify_items": null,
            "left": null,
            "margin": null,
            "max_height": null,
            "max_width": null,
            "min_height": null,
            "min_width": null,
            "object_fit": null,
            "object_position": null,
            "order": null,
            "overflow": null,
            "overflow_x": null,
            "overflow_y": null,
            "padding": null,
            "right": null,
            "top": null,
            "visibility": null,
            "width": null
          }
        },
        "71e985f2f029418b8ba776c88621ef7d": {
          "model_module": "@jupyter-widgets/controls",
          "model_name": "DescriptionStyleModel",
          "model_module_version": "1.5.0",
          "state": {
            "_model_module": "@jupyter-widgets/controls",
            "_model_module_version": "1.5.0",
            "_model_name": "DescriptionStyleModel",
            "_view_count": null,
            "_view_module": "@jupyter-widgets/base",
            "_view_module_version": "1.2.0",
            "_view_name": "StyleView",
            "description_width": ""
          }
        },
        "8648fc8067794e11bd04e18dd7b187a5": {
          "model_module": "@jupyter-widgets/base",
          "model_name": "LayoutModel",
          "model_module_version": "1.2.0",
          "state": {
            "_model_module": "@jupyter-widgets/base",
            "_model_module_version": "1.2.0",
            "_model_name": "LayoutModel",
            "_view_count": null,
            "_view_module": "@jupyter-widgets/base",
            "_view_module_version": "1.2.0",
            "_view_name": "LayoutView",
            "align_content": null,
            "align_items": null,
            "align_self": null,
            "border": null,
            "bottom": null,
            "display": null,
            "flex": null,
            "flex_flow": null,
            "grid_area": null,
            "grid_auto_columns": null,
            "grid_auto_flow": null,
            "grid_auto_rows": null,
            "grid_column": null,
            "grid_gap": null,
            "grid_row": null,
            "grid_template_areas": null,
            "grid_template_columns": null,
            "grid_template_rows": null,
            "height": null,
            "justify_content": null,
            "justify_items": null,
            "left": null,
            "margin": null,
            "max_height": null,
            "max_width": null,
            "min_height": null,
            "min_width": null,
            "object_fit": null,
            "object_position": null,
            "order": null,
            "overflow": null,
            "overflow_x": null,
            "overflow_y": null,
            "padding": null,
            "right": null,
            "top": null,
            "visibility": null,
            "width": null
          }
        },
        "21e93570cd274f4c9b258b83a919a8ce": {
          "model_module": "@jupyter-widgets/controls",
          "model_name": "ProgressStyleModel",
          "model_module_version": "1.5.0",
          "state": {
            "_model_module": "@jupyter-widgets/controls",
            "_model_module_version": "1.5.0",
            "_model_name": "ProgressStyleModel",
            "_view_count": null,
            "_view_module": "@jupyter-widgets/base",
            "_view_module_version": "1.2.0",
            "_view_name": "StyleView",
            "bar_color": null,
            "description_width": ""
          }
        },
        "9a76b56c08e64b3a84f61b52cb4181a6": {
          "model_module": "@jupyter-widgets/base",
          "model_name": "LayoutModel",
          "model_module_version": "1.2.0",
          "state": {
            "_model_module": "@jupyter-widgets/base",
            "_model_module_version": "1.2.0",
            "_model_name": "LayoutModel",
            "_view_count": null,
            "_view_module": "@jupyter-widgets/base",
            "_view_module_version": "1.2.0",
            "_view_name": "LayoutView",
            "align_content": null,
            "align_items": null,
            "align_self": null,
            "border": null,
            "bottom": null,
            "display": null,
            "flex": null,
            "flex_flow": null,
            "grid_area": null,
            "grid_auto_columns": null,
            "grid_auto_flow": null,
            "grid_auto_rows": null,
            "grid_column": null,
            "grid_gap": null,
            "grid_row": null,
            "grid_template_areas": null,
            "grid_template_columns": null,
            "grid_template_rows": null,
            "height": null,
            "justify_content": null,
            "justify_items": null,
            "left": null,
            "margin": null,
            "max_height": null,
            "max_width": null,
            "min_height": null,
            "min_width": null,
            "object_fit": null,
            "object_position": null,
            "order": null,
            "overflow": null,
            "overflow_x": null,
            "overflow_y": null,
            "padding": null,
            "right": null,
            "top": null,
            "visibility": null,
            "width": null
          }
        },
        "5b781e1532a4433282957554274c28e4": {
          "model_module": "@jupyter-widgets/controls",
          "model_name": "DescriptionStyleModel",
          "model_module_version": "1.5.0",
          "state": {
            "_model_module": "@jupyter-widgets/controls",
            "_model_module_version": "1.5.0",
            "_model_name": "DescriptionStyleModel",
            "_view_count": null,
            "_view_module": "@jupyter-widgets/base",
            "_view_module_version": "1.2.0",
            "_view_name": "StyleView",
            "description_width": ""
          }
        },
        "0fe1606edffc4a1780d12203ee475c9c": {
          "model_module": "@jupyter-widgets/controls",
          "model_name": "HBoxModel",
          "model_module_version": "1.5.0",
          "state": {
            "_dom_classes": [],
            "_model_module": "@jupyter-widgets/controls",
            "_model_module_version": "1.5.0",
            "_model_name": "HBoxModel",
            "_view_count": null,
            "_view_module": "@jupyter-widgets/controls",
            "_view_module_version": "1.5.0",
            "_view_name": "HBoxView",
            "box_style": "",
            "children": [
              "IPY_MODEL_e472562b4f724c3a9bf9555d7541957d",
              "IPY_MODEL_cf7b582de3614aba92d4590e3f60dbaa",
              "IPY_MODEL_2920791028584b6ebbb246c168774a0a"
            ],
            "layout": "IPY_MODEL_809d9fc6a87f41ceaa06f23ba8a963ba"
          }
        },
        "e472562b4f724c3a9bf9555d7541957d": {
          "model_module": "@jupyter-widgets/controls",
          "model_name": "HTMLModel",
          "model_module_version": "1.5.0",
          "state": {
            "_dom_classes": [],
            "_model_module": "@jupyter-widgets/controls",
            "_model_module_version": "1.5.0",
            "_model_name": "HTMLModel",
            "_view_count": null,
            "_view_module": "@jupyter-widgets/controls",
            "_view_module_version": "1.5.0",
            "_view_name": "HTMLView",
            "description": "",
            "description_tooltip": null,
            "layout": "IPY_MODEL_9d2ead61f58c4763ba205af9df230561",
            "placeholder": "​",
            "style": "IPY_MODEL_82d1cd8136d2482cb7464dc8bb18e2cf",
            "value": "Downloading (…)/main/tokenizer.json: 100%"
          }
        },
        "cf7b582de3614aba92d4590e3f60dbaa": {
          "model_module": "@jupyter-widgets/controls",
          "model_name": "FloatProgressModel",
          "model_module_version": "1.5.0",
          "state": {
            "_dom_classes": [],
            "_model_module": "@jupyter-widgets/controls",
            "_model_module_version": "1.5.0",
            "_model_name": "FloatProgressModel",
            "_view_count": null,
            "_view_module": "@jupyter-widgets/controls",
            "_view_module_version": "1.5.0",
            "_view_name": "ProgressView",
            "bar_style": "success",
            "description": "",
            "description_tooltip": null,
            "layout": "IPY_MODEL_6811860d2a9c4529b32114a5ba05e08a",
            "max": 466062,
            "min": 0,
            "orientation": "horizontal",
            "style": "IPY_MODEL_9151af1d63fd49368a0ce527159e781b",
            "value": 466062
          }
        },
        "2920791028584b6ebbb246c168774a0a": {
          "model_module": "@jupyter-widgets/controls",
          "model_name": "HTMLModel",
          "model_module_version": "1.5.0",
          "state": {
            "_dom_classes": [],
            "_model_module": "@jupyter-widgets/controls",
            "_model_module_version": "1.5.0",
            "_model_name": "HTMLModel",
            "_view_count": null,
            "_view_module": "@jupyter-widgets/controls",
            "_view_module_version": "1.5.0",
            "_view_name": "HTMLView",
            "description": "",
            "description_tooltip": null,
            "layout": "IPY_MODEL_2e3f4b3aecb240d6b2d9996d75f35916",
            "placeholder": "​",
            "style": "IPY_MODEL_d586fbc03bba4d3d942a9b2e461fe834",
            "value": " 466k/466k [00:00&lt;00:00, 7.36MB/s]"
          }
        },
        "809d9fc6a87f41ceaa06f23ba8a963ba": {
          "model_module": "@jupyter-widgets/base",
          "model_name": "LayoutModel",
          "model_module_version": "1.2.0",
          "state": {
            "_model_module": "@jupyter-widgets/base",
            "_model_module_version": "1.2.0",
            "_model_name": "LayoutModel",
            "_view_count": null,
            "_view_module": "@jupyter-widgets/base",
            "_view_module_version": "1.2.0",
            "_view_name": "LayoutView",
            "align_content": null,
            "align_items": null,
            "align_self": null,
            "border": null,
            "bottom": null,
            "display": null,
            "flex": null,
            "flex_flow": null,
            "grid_area": null,
            "grid_auto_columns": null,
            "grid_auto_flow": null,
            "grid_auto_rows": null,
            "grid_column": null,
            "grid_gap": null,
            "grid_row": null,
            "grid_template_areas": null,
            "grid_template_columns": null,
            "grid_template_rows": null,
            "height": null,
            "justify_content": null,
            "justify_items": null,
            "left": null,
            "margin": null,
            "max_height": null,
            "max_width": null,
            "min_height": null,
            "min_width": null,
            "object_fit": null,
            "object_position": null,
            "order": null,
            "overflow": null,
            "overflow_x": null,
            "overflow_y": null,
            "padding": null,
            "right": null,
            "top": null,
            "visibility": null,
            "width": null
          }
        },
        "9d2ead61f58c4763ba205af9df230561": {
          "model_module": "@jupyter-widgets/base",
          "model_name": "LayoutModel",
          "model_module_version": "1.2.0",
          "state": {
            "_model_module": "@jupyter-widgets/base",
            "_model_module_version": "1.2.0",
            "_model_name": "LayoutModel",
            "_view_count": null,
            "_view_module": "@jupyter-widgets/base",
            "_view_module_version": "1.2.0",
            "_view_name": "LayoutView",
            "align_content": null,
            "align_items": null,
            "align_self": null,
            "border": null,
            "bottom": null,
            "display": null,
            "flex": null,
            "flex_flow": null,
            "grid_area": null,
            "grid_auto_columns": null,
            "grid_auto_flow": null,
            "grid_auto_rows": null,
            "grid_column": null,
            "grid_gap": null,
            "grid_row": null,
            "grid_template_areas": null,
            "grid_template_columns": null,
            "grid_template_rows": null,
            "height": null,
            "justify_content": null,
            "justify_items": null,
            "left": null,
            "margin": null,
            "max_height": null,
            "max_width": null,
            "min_height": null,
            "min_width": null,
            "object_fit": null,
            "object_position": null,
            "order": null,
            "overflow": null,
            "overflow_x": null,
            "overflow_y": null,
            "padding": null,
            "right": null,
            "top": null,
            "visibility": null,
            "width": null
          }
        },
        "82d1cd8136d2482cb7464dc8bb18e2cf": {
          "model_module": "@jupyter-widgets/controls",
          "model_name": "DescriptionStyleModel",
          "model_module_version": "1.5.0",
          "state": {
            "_model_module": "@jupyter-widgets/controls",
            "_model_module_version": "1.5.0",
            "_model_name": "DescriptionStyleModel",
            "_view_count": null,
            "_view_module": "@jupyter-widgets/base",
            "_view_module_version": "1.2.0",
            "_view_name": "StyleView",
            "description_width": ""
          }
        },
        "6811860d2a9c4529b32114a5ba05e08a": {
          "model_module": "@jupyter-widgets/base",
          "model_name": "LayoutModel",
          "model_module_version": "1.2.0",
          "state": {
            "_model_module": "@jupyter-widgets/base",
            "_model_module_version": "1.2.0",
            "_model_name": "LayoutModel",
            "_view_count": null,
            "_view_module": "@jupyter-widgets/base",
            "_view_module_version": "1.2.0",
            "_view_name": "LayoutView",
            "align_content": null,
            "align_items": null,
            "align_self": null,
            "border": null,
            "bottom": null,
            "display": null,
            "flex": null,
            "flex_flow": null,
            "grid_area": null,
            "grid_auto_columns": null,
            "grid_auto_flow": null,
            "grid_auto_rows": null,
            "grid_column": null,
            "grid_gap": null,
            "grid_row": null,
            "grid_template_areas": null,
            "grid_template_columns": null,
            "grid_template_rows": null,
            "height": null,
            "justify_content": null,
            "justify_items": null,
            "left": null,
            "margin": null,
            "max_height": null,
            "max_width": null,
            "min_height": null,
            "min_width": null,
            "object_fit": null,
            "object_position": null,
            "order": null,
            "overflow": null,
            "overflow_x": null,
            "overflow_y": null,
            "padding": null,
            "right": null,
            "top": null,
            "visibility": null,
            "width": null
          }
        },
        "9151af1d63fd49368a0ce527159e781b": {
          "model_module": "@jupyter-widgets/controls",
          "model_name": "ProgressStyleModel",
          "model_module_version": "1.5.0",
          "state": {
            "_model_module": "@jupyter-widgets/controls",
            "_model_module_version": "1.5.0",
            "_model_name": "ProgressStyleModel",
            "_view_count": null,
            "_view_module": "@jupyter-widgets/base",
            "_view_module_version": "1.2.0",
            "_view_name": "StyleView",
            "bar_color": null,
            "description_width": ""
          }
        },
        "2e3f4b3aecb240d6b2d9996d75f35916": {
          "model_module": "@jupyter-widgets/base",
          "model_name": "LayoutModel",
          "model_module_version": "1.2.0",
          "state": {
            "_model_module": "@jupyter-widgets/base",
            "_model_module_version": "1.2.0",
            "_model_name": "LayoutModel",
            "_view_count": null,
            "_view_module": "@jupyter-widgets/base",
            "_view_module_version": "1.2.0",
            "_view_name": "LayoutView",
            "align_content": null,
            "align_items": null,
            "align_self": null,
            "border": null,
            "bottom": null,
            "display": null,
            "flex": null,
            "flex_flow": null,
            "grid_area": null,
            "grid_auto_columns": null,
            "grid_auto_flow": null,
            "grid_auto_rows": null,
            "grid_column": null,
            "grid_gap": null,
            "grid_row": null,
            "grid_template_areas": null,
            "grid_template_columns": null,
            "grid_template_rows": null,
            "height": null,
            "justify_content": null,
            "justify_items": null,
            "left": null,
            "margin": null,
            "max_height": null,
            "max_width": null,
            "min_height": null,
            "min_width": null,
            "object_fit": null,
            "object_position": null,
            "order": null,
            "overflow": null,
            "overflow_x": null,
            "overflow_y": null,
            "padding": null,
            "right": null,
            "top": null,
            "visibility": null,
            "width": null
          }
        },
        "d586fbc03bba4d3d942a9b2e461fe834": {
          "model_module": "@jupyter-widgets/controls",
          "model_name": "DescriptionStyleModel",
          "model_module_version": "1.5.0",
          "state": {
            "_model_module": "@jupyter-widgets/controls",
            "_model_module_version": "1.5.0",
            "_model_name": "DescriptionStyleModel",
            "_view_count": null,
            "_view_module": "@jupyter-widgets/base",
            "_view_module_version": "1.2.0",
            "_view_name": "StyleView",
            "description_width": ""
          }
        }
      }
    }
  },
  "cells": [
    {
      "cell_type": "markdown",
      "source": [
        "# **Textual Data preproccessing**\n"
      ],
      "metadata": {
        "id": "8gIMH96b3Rxa"
      }
    },
    {
      "cell_type": "markdown",
      "source": [
        "# **Install Neccessary Libraries**\n",
        "\n",
        "---\n",
        "\n"
      ],
      "metadata": {
        "id": "Sj3G5b_C3XxY"
      }
    },
    {
      "cell_type": "code",
      "source": [
        "# Install NLTK\n",
        "# Natural Language Toolkit (NLTK) library, a powerful tool for natural language processing tasks\n",
        "!pip install nltk\n",
        "!pip install transformers\n"
      ],
      "metadata": {
        "colab": {
          "base_uri": "https://localhost:8080/"
        },
        "id": "1YuioFbRfqVp",
        "outputId": "aad1f5b9-be87-4cf6-97cf-54bba7725ac4"
      },
      "execution_count": 1,
      "outputs": [
        {
          "output_type": "stream",
          "name": "stdout",
          "text": [
            "Requirement already satisfied: nltk in /usr/local/lib/python3.10/dist-packages (3.8.1)\n",
            "Requirement already satisfied: click in /usr/local/lib/python3.10/dist-packages (from nltk) (8.1.6)\n",
            "Requirement already satisfied: joblib in /usr/local/lib/python3.10/dist-packages (from nltk) (1.3.1)\n",
            "Requirement already satisfied: regex>=2021.8.3 in /usr/local/lib/python3.10/dist-packages (from nltk) (2022.10.31)\n",
            "Requirement already satisfied: tqdm in /usr/local/lib/python3.10/dist-packages (from nltk) (4.65.0)\n",
            "Collecting transformers\n",
            "  Downloading transformers-4.31.0-py3-none-any.whl (7.4 MB)\n",
            "\u001b[2K     \u001b[90m━━━━━━━━━━━━━━━━━━━━━━━━━━━━━━━━━━━━━━━━\u001b[0m \u001b[32m7.4/7.4 MB\u001b[0m \u001b[31m23.1 MB/s\u001b[0m eta \u001b[36m0:00:00\u001b[0m\n",
            "\u001b[?25hRequirement already satisfied: filelock in /usr/local/lib/python3.10/dist-packages (from transformers) (3.12.2)\n",
            "Collecting huggingface-hub<1.0,>=0.14.1 (from transformers)\n",
            "  Downloading huggingface_hub-0.16.4-py3-none-any.whl (268 kB)\n",
            "\u001b[2K     \u001b[90m━━━━━━━━━━━━━━━━━━━━━━━━━━━━━━━━━━━━━━\u001b[0m \u001b[32m268.8/268.8 kB\u001b[0m \u001b[31m30.1 MB/s\u001b[0m eta \u001b[36m0:00:00\u001b[0m\n",
            "\u001b[?25hRequirement already satisfied: numpy>=1.17 in /usr/local/lib/python3.10/dist-packages (from transformers) (1.23.5)\n",
            "Requirement already satisfied: packaging>=20.0 in /usr/local/lib/python3.10/dist-packages (from transformers) (23.1)\n",
            "Requirement already satisfied: pyyaml>=5.1 in /usr/local/lib/python3.10/dist-packages (from transformers) (6.0.1)\n",
            "Requirement already satisfied: regex!=2019.12.17 in /usr/local/lib/python3.10/dist-packages (from transformers) (2022.10.31)\n",
            "Requirement already satisfied: requests in /usr/local/lib/python3.10/dist-packages (from transformers) (2.31.0)\n",
            "Collecting tokenizers!=0.11.3,<0.14,>=0.11.1 (from transformers)\n",
            "  Downloading tokenizers-0.13.3-cp310-cp310-manylinux_2_17_x86_64.manylinux2014_x86_64.whl (7.8 MB)\n",
            "\u001b[2K     \u001b[90m━━━━━━━━━━━━━━━━━━━━━━━━━━━━━━━━━━━━━━━━\u001b[0m \u001b[32m7.8/7.8 MB\u001b[0m \u001b[31m68.3 MB/s\u001b[0m eta \u001b[36m0:00:00\u001b[0m\n",
            "\u001b[?25hCollecting safetensors>=0.3.1 (from transformers)\n",
            "  Downloading safetensors-0.3.2-cp310-cp310-manylinux_2_17_x86_64.manylinux2014_x86_64.whl (1.3 MB)\n",
            "\u001b[2K     \u001b[90m━━━━━━━━━━━━━━━━━━━━━━━━━━━━━━━━━━━━━━━━\u001b[0m \u001b[32m1.3/1.3 MB\u001b[0m \u001b[31m63.6 MB/s\u001b[0m eta \u001b[36m0:00:00\u001b[0m\n",
            "\u001b[?25hRequirement already satisfied: tqdm>=4.27 in /usr/local/lib/python3.10/dist-packages (from transformers) (4.65.0)\n",
            "Requirement already satisfied: fsspec in /usr/local/lib/python3.10/dist-packages (from huggingface-hub<1.0,>=0.14.1->transformers) (2023.6.0)\n",
            "Requirement already satisfied: typing-extensions>=3.7.4.3 in /usr/local/lib/python3.10/dist-packages (from huggingface-hub<1.0,>=0.14.1->transformers) (4.7.1)\n",
            "Requirement already satisfied: charset-normalizer<4,>=2 in /usr/local/lib/python3.10/dist-packages (from requests->transformers) (3.2.0)\n",
            "Requirement already satisfied: idna<4,>=2.5 in /usr/local/lib/python3.10/dist-packages (from requests->transformers) (3.4)\n",
            "Requirement already satisfied: urllib3<3,>=1.21.1 in /usr/local/lib/python3.10/dist-packages (from requests->transformers) (1.26.16)\n",
            "Requirement already satisfied: certifi>=2017.4.17 in /usr/local/lib/python3.10/dist-packages (from requests->transformers) (2023.7.22)\n",
            "Installing collected packages: tokenizers, safetensors, huggingface-hub, transformers\n",
            "Successfully installed huggingface-hub-0.16.4 safetensors-0.3.2 tokenizers-0.13.3 transformers-4.31.0\n"
          ]
        }
      ]
    },
    {
      "cell_type": "markdown",
      "source": [
        "# **Import Neccessary Libraries**\n",
        "\n",
        "---\n",
        "\n"
      ],
      "metadata": {
        "id": "y8aoIVVNR5X4"
      }
    },
    {
      "cell_type": "code",
      "source": [
        "import json\n",
        "import pandas as pd\n",
        "# Import BeautifulSoup library to remove html tags\n",
        "import random\n",
        "\n",
        "from bs4 import BeautifulSoup\n",
        "\n",
        "# Import NLTK and download necessary resources\n",
        "import nltk\n",
        "nltk.download('punkt')\n",
        "\n",
        "# Download the stopwords list\n",
        "nltk.download('stopwords')\n",
        "# Import the stopwords module after downloading it\n",
        "from nltk.corpus import stopwords\n",
        "\n",
        "# Import string library for removing punctuation marks and special characters\n",
        "import string\n",
        "\n",
        "# Import NLP Stemming and Lemmatization Libraries\n",
        "from nltk.stem import PorterStemmer, WordNetLemmatizer\n",
        "nltk.download('wordnet')\n"
      ],
      "metadata": {
        "colab": {
          "base_uri": "https://localhost:8080/"
        },
        "id": "FG7CHlzO3UMr",
        "outputId": "ebd3bb35-548d-462b-8b19-52f4ae3a1a5d"
      },
      "execution_count": 2,
      "outputs": [
        {
          "output_type": "stream",
          "name": "stderr",
          "text": [
            "[nltk_data] Downloading package punkt to /root/nltk_data...\n",
            "[nltk_data]   Unzipping tokenizers/punkt.zip.\n",
            "[nltk_data] Downloading package stopwords to /root/nltk_data...\n",
            "[nltk_data]   Unzipping corpora/stopwords.zip.\n",
            "[nltk_data] Downloading package wordnet to /root/nltk_data...\n"
          ]
        },
        {
          "output_type": "execute_result",
          "data": {
            "text/plain": [
              "True"
            ]
          },
          "metadata": {},
          "execution_count": 2
        }
      ]
    },
    {
      "cell_type": "markdown",
      "source": [
        "# **Mount to Google Drive**\n",
        "\n",
        "---\n",
        "\n"
      ],
      "metadata": {
        "id": "BPtAoZmuSW-p"
      }
    },
    {
      "cell_type": "code",
      "source": [
        "# Mount (connect to) Google drive to be able to read from it (copy data files into HDFS)\n",
        "from google.colab import drive\n",
        "drive.mount('/content/drive')"
      ],
      "metadata": {
        "colab": {
          "base_uri": "https://localhost:8080/"
        },
        "id": "hRWDTu_q3gzE",
        "outputId": "536064b5-f014-40ae-ba4f-d21f5d781f39"
      },
      "execution_count": 3,
      "outputs": [
        {
          "output_type": "stream",
          "name": "stdout",
          "text": [
            "Mounted at /content/drive\n"
          ]
        }
      ]
    },
    {
      "cell_type": "markdown",
      "source": [
        "## Read json datasets from google drive\n"
      ],
      "metadata": {
        "id": "aQU4gYZw3rx8"
      }
    },
    {
      "cell_type": "code",
      "source": [
        "# Define the  file path\n",
        "data_file_path = '/content/drive/My Drive/cryptodata/reddit.json'\n",
        "\n",
        "# Read the  dataset\n",
        "with open(data_file_path , 'r') as file:\n",
        "    dataset_reddit = json.load(file)"
      ],
      "metadata": {
        "id": "6kUHmUK33snQ"
      },
      "execution_count": 4,
      "outputs": []
    },
    {
      "cell_type": "markdown",
      "source": [
        "# **Random Sampling**\n",
        "\n",
        "---\n",
        "\n"
      ],
      "metadata": {
        "id": "7seeYMA86TG5"
      }
    },
    {
      "cell_type": "code",
      "source": [
        "\n",
        "# Calculate the number of elements to sample (5% of the dataset)\n",
        "sample_size = int(len(dataset_reddit) * 0.25)\n",
        "\n",
        "# Perform random sampling\n",
        "random_sample = random.sample(dataset_reddit, sample_size)\n",
        "\n"
      ],
      "metadata": {
        "id": "k1mRXott6SxZ"
      },
      "execution_count": 5,
      "outputs": []
    },
    {
      "cell_type": "markdown",
      "source": [
        "Now, \"random_sample\" contains 5% of the data from \"dataset_reddit\".\n"
      ],
      "metadata": {
        "id": "G-5CIjyk7aYP"
      }
    },
    {
      "cell_type": "markdown",
      "source": [
        "# **Lowercasing**\n",
        "\n",
        "---\n",
        "\n"
      ],
      "metadata": {
        "id": "cHsm0rwmqyDH"
      }
    },
    {
      "cell_type": "code",
      "source": [
        "# Initialize an empty list to store the texts\n",
        "text_array = []\n",
        "\n",
        "# Loop through each item in random_sample\n",
        "for item in random_sample:\n",
        "    # Extract the 'text' field from each item and append it to the list\n",
        "    text_array.append(item['text'])\n",
        "\n",
        "# Print the first few elements of the text_array to verify the texts are saved correctly\n",
        "print(text_array[:5])\n"
      ],
      "metadata": {
        "colab": {
          "base_uri": "https://localhost:8080/"
        },
        "id": "3ah0A177mGWU",
        "outputId": "22228945-5d59-46c5-ffdc-f057e7cee49c"
      },
      "execution_count": 6,
      "outputs": [
        {
          "output_type": "stream",
          "name": "stdout",
          "text": [
            "['I am going to take a slightly different perspective than the usual poster, I will tell you what the point of cryptocurrency is, from the perspective of being utilised to disrupt a corrupt niche industry. Since full disclosure one of the projects I am most passionate about is the GET Protocol then I will use it as my example and tell you why the ticketing industry can benefit from blockchain and cryptocurrency and why the average person will be better off.\\n\\nSo firstly lets discuss the current issues, right now as it stands the ticketing industry is incredibly corrupt with professional ticketing touts snatching tickets off primary markets and then upselling them, gouging the fans of artists, comedians, entertainers and so forth. It has become such an issue that many artists are now trying to stand up to give their fans a better experience but websites such as Viagogo and even some of TicketMasters own Secondary reselling sites still control the market and cause havoc for those trying to have fair prices for events.\\n\\nIt was theorized in the beginning of blockchain that ticketing was a good example of uses for blockchain and lots of people would say this was cliche but it’s actually very very useful. Thanks to Ethereums main net, the resources were in place to get started solving this issue. This is where Amsterdam based GUTS Tickets has come in to solve and tackle the problem with their soon to be open source GET Protocol and the GET (Guaranteed Entrance Token) cryptocurrency.\\n\\nA little bit of preface about GUTS, they started at the beginning of 2016 by developing a vision of a ticketing application that would run on top of a protocol that anyone could use to ticket their events, which would be transparent, fair and easy to use. As it stands the GUTS ticketing application is taking the Netherlands by storm. With over 80k tickets sold and 1 Million being solid by the end of next year, a plethora of Famous Dutch artists and comedians, such as Jochem Myjer, Guus Meeuwis and even French Superstar ZAZ using GUTS for their shows.\\n\\nIn July of this year, all these tickets will start to be sold on the Ethereum main net, after a year of ticketing being performed through the Kovan Ethereum testnet. Each and every smart ticket will need GET in order to be created, the GET backs each and every ticket. Now you may be wondering, well what about a person who has no care for blockchain or cryptocurrency. Lets take 80 year old hardcore raver Dorris for example, she loves her raves but hates technology and doesn’t care for it. You know for certain she won’t have a clue about crypto.\\n\\nFor reasons like this, the GUTS team have designed everything so that it gives the best user experience possible. Through the GUTS tickets app, website or Artist pages, tickets can be purchased in FIAT, the event goer never knows that crypto or blockchain is used as it is all in the background, driving the user experience. The tickets are tied to the users smartphone and have a series of measure in place to prevent ticket reselling such as shuffling dynamic QR codes that cannot be screenshot and resold, aswell as each ticket being tied to an individual SIM of the users phone.\\n\\nThe blockchain driving the user experience is exactly what blockchain needs to thrive. It should be used to power great pieces of software and tech, because 90% of the general population won’t care about blockchain, they will simply care about the cool apps that come with it.\\n\\nSo after July, thousands of tickets will be sold that are backed by GET but purchased by the end users in FIAT, thanks to GET, each tickets lifecycle can be tracked on the blockchain, each ticket state such as, bought, scanned, sold etc can be recorded and tracked by anyone and everyone. A tech minded fan, an artist wanting fairer systems for their fans, a venue needing easily auditable ticketing solutions. The potency of cryptocurrency is fully unlocked but has zero of the downfalls with traditionally having to buy cryptocurrency from an exchange. The GET protocol will be fully open source sometime next year, meaning anyone and everyone can set up and ticket events on the protocol. This means any ticketing companies looking for a fairer backend, any budding artists needing a ticketing solution that is open and far easier than using traditional companies can do so in a fair and fully controlable manner.\\n\\nNow lets get on to why you as a crypto investor may care for GET tokens, firstly as mentioned they are needed for every ticket sold on the protocol as well as thoughs through GUTS ticketing application. There are only 10.3 million tokens in circulation with a max circulating supply of 13.5 million GET. Each event on the protocol will purchase GET from a stabilty fund which is in place that never touches the circulating supply. Once GET is purchased from the SF, the SF must replenish itself by placing buy contracts on exchanges, these will be placed using a price oracle and will be set at the average price of each GET on exchanges. This will have a major effect on positive price action. Driving up demand for GET significantly, for example 30k tickets on the GUTS application will buy approximately 40-60k USD worth of GET off the exchanges which can not only make volume far greater than the average crypto since there are external sources at play, but help alleviate any downwards sell pressure.\\n\\nIve told you about the potential of GET being used and the fact that the protocol can be used to tickets events for theatres, sports games, festivals but it can even be used for public transport, flight tickets and the possibility is endless. I hope you guys see the potential in this too and let me know if you have any questions.\\n\\n', 'I love the looks of ARK from what I read. What I find annoying is their roadmap in the circles with % completion with no timeline attached to anything. If people are going to mass invest we need timelines, projected dates of completion etc. There calendar is empty in the forseeable future from what I could find. Can you shed any light on this? ', \"How about the people that did it right and didn't get their funds stolen?\", 'i think so. PBL, PRL and DBC are great projects.\\nBNTY announced yesterday that they are gonna be on another exchange. +94% last 24h', \"Definately. They are more visionary then many other countries FUDing the markets now. The government grasps the value and inevitability of blockchain technology. Now, rather then stifle innovation, they embrace it to establish a firm foothold in the industry, all at the same time establishing clear guidelines on crypto trading. Now that's smart, pragmatic governence... 👍👍\"]\n"
          ]
        }
      ]
    },
    {
      "cell_type": "code",
      "source": [],
      "metadata": {
        "id": "ZCwtyR3-uYeY"
      },
      "execution_count": 6,
      "outputs": []
    },
    {
      "cell_type": "code",
      "source": [
        "# Convert all elements in the text_array to lowercase\n",
        "lowercased_text_array = [text.lower() for text in text_array]\n",
        "\n",
        "# Print the first few elements of the lowercased_text_array to verify the lowercasing\n",
        "print(lowercased_text_array[:5])\n"
      ],
      "metadata": {
        "id": "0ZrQkNLSq0rq",
        "colab": {
          "base_uri": "https://localhost:8080/"
        },
        "outputId": "20410b7a-a2d4-415c-d309-b3b2ce4b410b"
      },
      "execution_count": 7,
      "outputs": [
        {
          "output_type": "stream",
          "name": "stdout",
          "text": [
            "['i am going to take a slightly different perspective than the usual poster, i will tell you what the point of cryptocurrency is, from the perspective of being utilised to disrupt a corrupt niche industry. since full disclosure one of the projects i am most passionate about is the get protocol then i will use it as my example and tell you why the ticketing industry can benefit from blockchain and cryptocurrency and why the average person will be better off.\\n\\nso firstly lets discuss the current issues, right now as it stands the ticketing industry is incredibly corrupt with professional ticketing touts snatching tickets off primary markets and then upselling them, gouging the fans of artists, comedians, entertainers and so forth. it has become such an issue that many artists are now trying to stand up to give their fans a better experience but websites such as viagogo and even some of ticketmasters own secondary reselling sites still control the market and cause havoc for those trying to have fair prices for events.\\n\\nit was theorized in the beginning of blockchain that ticketing was a good example of uses for blockchain and lots of people would say this was cliche but it’s actually very very useful. thanks to ethereums main net, the resources were in place to get started solving this issue. this is where amsterdam based guts tickets has come in to solve and tackle the problem with their soon to be open source get protocol and the get (guaranteed entrance token) cryptocurrency.\\n\\na little bit of preface about guts, they started at the beginning of 2016 by developing a vision of a ticketing application that would run on top of a protocol that anyone could use to ticket their events, which would be transparent, fair and easy to use. as it stands the guts ticketing application is taking the netherlands by storm. with over 80k tickets sold and 1 million being solid by the end of next year, a plethora of famous dutch artists and comedians, such as jochem myjer, guus meeuwis and even french superstar zaz using guts for their shows.\\n\\nin july of this year, all these tickets will start to be sold on the ethereum main net, after a year of ticketing being performed through the kovan ethereum testnet. each and every smart ticket will need get in order to be created, the get backs each and every ticket. now you may be wondering, well what about a person who has no care for blockchain or cryptocurrency. lets take 80 year old hardcore raver dorris for example, she loves her raves but hates technology and doesn’t care for it. you know for certain she won’t have a clue about crypto.\\n\\nfor reasons like this, the guts team have designed everything so that it gives the best user experience possible. through the guts tickets app, website or artist pages, tickets can be purchased in fiat, the event goer never knows that crypto or blockchain is used as it is all in the background, driving the user experience. the tickets are tied to the users smartphone and have a series of measure in place to prevent ticket reselling such as shuffling dynamic qr codes that cannot be screenshot and resold, aswell as each ticket being tied to an individual sim of the users phone.\\n\\nthe blockchain driving the user experience is exactly what blockchain needs to thrive. it should be used to power great pieces of software and tech, because 90% of the general population won’t care about blockchain, they will simply care about the cool apps that come with it.\\n\\nso after july, thousands of tickets will be sold that are backed by get but purchased by the end users in fiat, thanks to get, each tickets lifecycle can be tracked on the blockchain, each ticket state such as, bought, scanned, sold etc can be recorded and tracked by anyone and everyone. a tech minded fan, an artist wanting fairer systems for their fans, a venue needing easily auditable ticketing solutions. the potency of cryptocurrency is fully unlocked but has zero of the downfalls with traditionally having to buy cryptocurrency from an exchange. the get protocol will be fully open source sometime next year, meaning anyone and everyone can set up and ticket events on the protocol. this means any ticketing companies looking for a fairer backend, any budding artists needing a ticketing solution that is open and far easier than using traditional companies can do so in a fair and fully controlable manner.\\n\\nnow lets get on to why you as a crypto investor may care for get tokens, firstly as mentioned they are needed for every ticket sold on the protocol as well as thoughs through guts ticketing application. there are only 10.3 million tokens in circulation with a max circulating supply of 13.5 million get. each event on the protocol will purchase get from a stabilty fund which is in place that never touches the circulating supply. once get is purchased from the sf, the sf must replenish itself by placing buy contracts on exchanges, these will be placed using a price oracle and will be set at the average price of each get on exchanges. this will have a major effect on positive price action. driving up demand for get significantly, for example 30k tickets on the guts application will buy approximately 40-60k usd worth of get off the exchanges which can not only make volume far greater than the average crypto since there are external sources at play, but help alleviate any downwards sell pressure.\\n\\nive told you about the potential of get being used and the fact that the protocol can be used to tickets events for theatres, sports games, festivals but it can even be used for public transport, flight tickets and the possibility is endless. i hope you guys see the potential in this too and let me know if you have any questions.\\n\\n', 'i love the looks of ark from what i read. what i find annoying is their roadmap in the circles with % completion with no timeline attached to anything. if people are going to mass invest we need timelines, projected dates of completion etc. there calendar is empty in the forseeable future from what i could find. can you shed any light on this? ', \"how about the people that did it right and didn't get their funds stolen?\", 'i think so. pbl, prl and dbc are great projects.\\nbnty announced yesterday that they are gonna be on another exchange. +94% last 24h', \"definately. they are more visionary then many other countries fuding the markets now. the government grasps the value and inevitability of blockchain technology. now, rather then stifle innovation, they embrace it to establish a firm foothold in the industry, all at the same time establishing clear guidelines on crypto trading. now that's smart, pragmatic governence... 👍👍\"]\n"
          ]
        }
      ]
    },
    {
      "cell_type": "markdown",
      "source": [
        "# **Removing Special Characters and Punctuation**\n",
        "\n",
        "---\n",
        "\n",
        "\n",
        "Remove any unnecessary special characters and punctuation marks that may not contribute to the sentiment analysis\n"
      ],
      "metadata": {
        "id": "BEP2lzPK1kq6"
      }
    },
    {
      "cell_type": "code",
      "source": [
        "# Remove special characters and punctuation marks\n",
        "filtered_text_array = [''.join(char for char in text if char not in string.punctuation) for text in lowercased_text_array]\n",
        "\n",
        "# Print the first few elements of the filtered_text_array to verify the removal\n",
        "print(filtered_text_array[:50])\n"
      ],
      "metadata": {
        "id": "-m3qsplU12FR",
        "colab": {
          "base_uri": "https://localhost:8080/"
        },
        "outputId": "09a9d989-2878-4515-9c1e-c3d045456ffa"
      },
      "execution_count": 8,
      "outputs": [
        {
          "output_type": "stream",
          "name": "stdout",
          "text": [
            "['i am going to take a slightly different perspective than the usual poster i will tell you what the point of cryptocurrency is from the perspective of being utilised to disrupt a corrupt niche industry since full disclosure one of the projects i am most passionate about is the get protocol then i will use it as my example and tell you why the ticketing industry can benefit from blockchain and cryptocurrency and why the average person will be better off\\n\\nso firstly lets discuss the current issues right now as it stands the ticketing industry is incredibly corrupt with professional ticketing touts snatching tickets off primary markets and then upselling them gouging the fans of artists comedians entertainers and so forth it has become such an issue that many artists are now trying to stand up to give their fans a better experience but websites such as viagogo and even some of ticketmasters own secondary reselling sites still control the market and cause havoc for those trying to have fair prices for events\\n\\nit was theorized in the beginning of blockchain that ticketing was a good example of uses for blockchain and lots of people would say this was cliche but it’s actually very very useful thanks to ethereums main net the resources were in place to get started solving this issue this is where amsterdam based guts tickets has come in to solve and tackle the problem with their soon to be open source get protocol and the get guaranteed entrance token cryptocurrency\\n\\na little bit of preface about guts they started at the beginning of 2016 by developing a vision of a ticketing application that would run on top of a protocol that anyone could use to ticket their events which would be transparent fair and easy to use as it stands the guts ticketing application is taking the netherlands by storm with over 80k tickets sold and 1 million being solid by the end of next year a plethora of famous dutch artists and comedians such as jochem myjer guus meeuwis and even french superstar zaz using guts for their shows\\n\\nin july of this year all these tickets will start to be sold on the ethereum main net after a year of ticketing being performed through the kovan ethereum testnet each and every smart ticket will need get in order to be created the get backs each and every ticket now you may be wondering well what about a person who has no care for blockchain or cryptocurrency lets take 80 year old hardcore raver dorris for example she loves her raves but hates technology and doesn’t care for it you know for certain she won’t have a clue about crypto\\n\\nfor reasons like this the guts team have designed everything so that it gives the best user experience possible through the guts tickets app website or artist pages tickets can be purchased in fiat the event goer never knows that crypto or blockchain is used as it is all in the background driving the user experience the tickets are tied to the users smartphone and have a series of measure in place to prevent ticket reselling such as shuffling dynamic qr codes that cannot be screenshot and resold aswell as each ticket being tied to an individual sim of the users phone\\n\\nthe blockchain driving the user experience is exactly what blockchain needs to thrive it should be used to power great pieces of software and tech because 90 of the general population won’t care about blockchain they will simply care about the cool apps that come with it\\n\\nso after july thousands of tickets will be sold that are backed by get but purchased by the end users in fiat thanks to get each tickets lifecycle can be tracked on the blockchain each ticket state such as bought scanned sold etc can be recorded and tracked by anyone and everyone a tech minded fan an artist wanting fairer systems for their fans a venue needing easily auditable ticketing solutions the potency of cryptocurrency is fully unlocked but has zero of the downfalls with traditionally having to buy cryptocurrency from an exchange the get protocol will be fully open source sometime next year meaning anyone and everyone can set up and ticket events on the protocol this means any ticketing companies looking for a fairer backend any budding artists needing a ticketing solution that is open and far easier than using traditional companies can do so in a fair and fully controlable manner\\n\\nnow lets get on to why you as a crypto investor may care for get tokens firstly as mentioned they are needed for every ticket sold on the protocol as well as thoughs through guts ticketing application there are only 103 million tokens in circulation with a max circulating supply of 135 million get each event on the protocol will purchase get from a stabilty fund which is in place that never touches the circulating supply once get is purchased from the sf the sf must replenish itself by placing buy contracts on exchanges these will be placed using a price oracle and will be set at the average price of each get on exchanges this will have a major effect on positive price action driving up demand for get significantly for example 30k tickets on the guts application will buy approximately 4060k usd worth of get off the exchanges which can not only make volume far greater than the average crypto since there are external sources at play but help alleviate any downwards sell pressure\\n\\nive told you about the potential of get being used and the fact that the protocol can be used to tickets events for theatres sports games festivals but it can even be used for public transport flight tickets and the possibility is endless i hope you guys see the potential in this too and let me know if you have any questions\\n\\n', 'i love the looks of ark from what i read what i find annoying is their roadmap in the circles with  completion with no timeline attached to anything if people are going to mass invest we need timelines projected dates of completion etc there calendar is empty in the forseeable future from what i could find can you shed any light on this ', 'how about the people that did it right and didnt get their funds stolen', 'i think so pbl prl and dbc are great projects\\nbnty announced yesterday that they are gonna be on another exchange 94 last 24h', 'definately they are more visionary then many other countries fuding the markets now the government grasps the value and inevitability of blockchain technology now rather then stifle innovation they embrace it to establish a firm foothold in the industry all at the same time establishing clear guidelines on crypto trading now thats smart pragmatic governence 👍👍', 'shouldnt matter if its not the email thing then check the btc address your withdrawing too is correct after that contact support because you may have an issue with your account ', 'yes this would be helpful i would read it ', 'why did you loan the government your money ', 'sadly blockchain isnt the solution at all', 'no they arent lol', 'problem is you don’t have drgn', 'where can u buy it', 'but did you ever get that lambo', 'enjin is about to launch their minecraft plug in to their existing user base ', 'well you guys had the choice to quit and work on your own chain thats how decentralization works you got all your etc the market just isnt paying for it youre like this is centralized because the market chose something that i didnt', 'i hold bat and am looking for good thingsjust also common sense  \\n\\n\\ni do think this is an important comment with eth at its current price look at how many projects are actually using the ethereum blockchain this one bat clearly has software and decentralized software creation capabilities why did they not just take the extra time to build a peer client that builds a blockchain attached to a browser or some derivative of that isnt the founder of javascript involved in this project ', 'yea true like you say majority but you can always go wrong with etherdelta one of the worst exchanges ever ', 'welcome to 0 regulation ', 'sis coin soon to hit 1 cent in the future', 'blockfolio delta is better though', 'we are as legit as it gets project launched 1 month ago and expect it to be solid by the end of the year in february the otn blockchain will be on and users can start using their tokens for transactions on it', 'charlie lee annoys me  im not gonna lie', 'instant ach on coinbase  ive done it many times', 'yeah yeah you keep repeating this over and over i still think its bullshit and youre missing the point', 'achain is a seriously undervalued project been holding it for over 1 month now ', 'hmm maybe  but price pumps and dumps regardless of what devs do too \\n\\nand shills and pumpers  maybe someone got wind of a deal ', 'lambolaughing at my broke orifice ', 'im invested in trx it has made me money but i have no hope for the future with it i use it as a vessel to increase funds on the short term to buy into established coins like eth i will still buy trx on the dip and sell on the high and pump into eth\\n\\nyou are the reason that trx gets a bad name apart from the obvious fuck ups with whitepaper etc it makes all trx investors look immature let people buy their own coins make their own investments but if you were smart you wpuld be looking to convert any gains to a long term solution', 'theyll come up with something they always do', 'in case you guys didnt notice today is crypto black friday all cryptos up to 50 off', 'we sincerely apologize for the delay occurred due to the extremely high demand for eth some transactions have not been included into the blockchain your transaction has been pushed through again you should receive your coins in the next few hours\\nthank you for your trust we appreciate that', 'ahhh thanks', 'price will go x3 major publisher is known and will be announced', 'damn almost bought into this as a new investor thanks ', 'bittrex is aids binance for life boiiii', 'not the worst thing someone has ever said to me', 'its a line from the backing vocals in the song', 'at first started to read that as i dont know where youve been all my life but then things went down hill suddenly  ', 'nobody is paying attention to qrl and it is going to launch the mainnet on q1 2018 \\n\\nthere is your opportunity', 'from what i understand there is no proof that tether actually has a backing of 1 usd if the company that controls the supply of tether printed more tether freely without the backing and then bought bitcoin with it bitcoin would be overvalued', 'monero will nevee scale its transaction size is 40x times larger than the dash', 'oh great another comedy post what the hell is this cr oh hello special agent cooper  this here is an upvote', 'eth cannot scale \\nit costs to run dapps gas \\ndapp development is lacklustre\\nmining is environmentally unfriendly\\nthe lion share of icos erc20s are dead coin spinning\\n\\nanswer  e o s\\nlook at the chart comparing the price of etheos\\nthe writing is on the wall for eth\\nthank me later\\npeace', 'you op are a potato', 'mmmmkay maybe we can talk about this laterafter theyve had the summit and then we can discuss the outcome of that summit good and bad\\n\\ngood news isnt worth two bob because it could just be lip service ive learned never to trust government officials not to backflip \\n\\nin all likelihood itll be finebut sadly i dont have the clairvoyance to be a fortune teller as my crystal ball is cloudy', 'see i got into tron for this reason a next era of web 40 for me using block chain i saw the project going down an encrypted www where govermnets could not shut down or block free speach  limit access to specific sites when uprising starts and not just that but give a way to get around a possible net neutrality that could soon effect everyone that was my vision for it and my interperitation of this\\n\\n the protocol allows each user to freely publish store and own data and in the decentralized autonomous form decides the distribution subscription and push of contents and enables content creators by releasing circulating and dealing with digital assets thus forming a decentralized content entertainment ecosystem\\n\\nto me i read that as the internet but i know others see it as some kind of gaming video and music sharing and or payment feature \\n\\ni dont get everything tron is doing the translations dont help but that is something they said they would work on \\n\\nnow the constant hype this week the gamecom domain and this dog stuff i understand from a marketing point why its done but i dont think its the direction i originally bought in for so my plan is to just ride till it and if i hits £05077 or higher and then cash out leaving 10100 tron behind for a what if it will have surved its purpose\\n\\ni think every crypto is bullshit if you read on here or check daily your here for money nothing else changing the world and breaking the banking chains has nothing to do with it tech adaption money everything does and will take time its about finding a few projects you have some faith in and then weed them out as time goes on', 'and another person speculating', 'i run arch but thanks for the link', 'whats going on with kucoin i been seeing it mentioned a lot today i have dbc on kucoin at the moment ', 'because big money can’t put large buys and sells in without significantly moving the market\\n\\nthe fact that whales can still affect the market is because of the illiquidity of it\\n\\nworld book will change that ']\n"
          ]
        }
      ]
    },
    {
      "cell_type": "markdown",
      "source": [
        "As we can see now there is not special characters or punctuation in the dataset."
      ],
      "metadata": {
        "id": "G6M84jWv3aiO"
      }
    },
    {
      "cell_type": "markdown",
      "source": [
        "# **Remove URLs**\n",
        "\n",
        "---\n",
        "\n",
        "\n",
        "In this step, we will determine whether there are any URLs present. If URLs are found, we will proceed to remove them; otherwise, we will move on to the next steps."
      ],
      "metadata": {
        "id": "JaDjmcITnSsy"
      }
    },
    {
      "cell_type": "markdown",
      "source": [
        "## Check URLs Presece"
      ],
      "metadata": {
        "id": "P1_NpgzwnWnn"
      }
    },
    {
      "cell_type": "code",
      "source": [
        "import re\n",
        "\n",
        "# Regular expression pattern to match URLs\n",
        "url_pattern = r'https?://(?:[-\\w.]|(?:%[\\da-fA-F]{2}))+'\n",
        "\n",
        "# Initialize a flag to check if URLs are present\n",
        "urls_found = False\n",
        "\n",
        "# Loop through each cleaned text in the test_data\n",
        "for text in filtered_text_array:\n",
        "    # Find all URLs in the text using the regular expression pattern\n",
        "    urls = re.findall(url_pattern, ' '.join(text))\n",
        "\n",
        "    # If URLs are found, set the flag to True and break the loop\n",
        "    if urls:\n",
        "        urls_found = True\n",
        "        break\n",
        "\n",
        "# Check the flag and print the appropriate message\n",
        "if urls_found:\n",
        "    print(\"URLs are present in the dataset.\")\n",
        "else:\n",
        "    print(\"No URLs found in the dataset.\")\n",
        "\n"
      ],
      "metadata": {
        "colab": {
          "base_uri": "https://localhost:8080/"
        },
        "id": "_blf1GhgnSaZ",
        "outputId": "025a3a5c-503e-43b3-8983-4e43bcf50ffe"
      },
      "execution_count": 9,
      "outputs": [
        {
          "output_type": "stream",
          "name": "stdout",
          "text": [
            "No URLs found in the dataset.\n"
          ]
        }
      ]
    },
    {
      "cell_type": "markdown",
      "source": [
        "As evident from the dataset, there are no URLs present.\n",
        "\n",
        "\n",
        "\n"
      ],
      "metadata": {
        "id": "jjb6SBONr2sZ"
      }
    },
    {
      "cell_type": "markdown",
      "source": [
        "# **stemming or lemmatization**\n",
        "\n",
        "---\n",
        "\n",
        "\n",
        "<div style=\"text-align: justify\">\n",
        "In this phase of the process, we will delve into the realm of stemming and lemmatization. Stemming and lemmatization are fundamental techniques in the realm of Natural Language Processing (NLP). Their primary goal is to streamline words into their core or root forms, a transformation that plays a pivotal role in enhancing both the effectiveness and precision of subsequent stages.\n",
        "</div>"
      ],
      "metadata": {
        "id": "X9GbeuUUBw4V"
      }
    },
    {
      "cell_type": "markdown",
      "source": [
        "## Stemming"
      ],
      "metadata": {
        "id": "8tTv81dwbVQs"
      }
    },
    {
      "cell_type": "code",
      "source": [
        "# Initialize the stemmer\n",
        "stemmer = PorterStemmer()\n"
      ],
      "metadata": {
        "id": "KVD2Ds9ZAfFv"
      },
      "execution_count": 10,
      "outputs": []
    },
    {
      "cell_type": "code",
      "source": [
        "from nltk.stem import PorterStemmer\n",
        "\n",
        "# Initialize the stemmer\n",
        "stemmer = PorterStemmer()\n",
        "\n",
        "# Apply stemming to each word in the sample_text\n",
        "stemmed_text_array = [[stemmer.stem(word) for word in text.split()] for text in filtered_text_array]\n",
        "\n",
        "\n"
      ],
      "metadata": {
        "id": "UZPNoPc2QDUj"
      },
      "execution_count": 11,
      "outputs": []
    },
    {
      "cell_type": "code",
      "source": [
        "# Print the first few elements of the stemmed_text_array to verify the removal\n",
        "print(stemmed_text_array[:50])"
      ],
      "metadata": {
        "colab": {
          "base_uri": "https://localhost:8080/"
        },
        "id": "KryGqXmJRuLC",
        "outputId": "f0cab393-67c2-4c7f-c64f-fb3982a55dc3"
      },
      "execution_count": 12,
      "outputs": [
        {
          "output_type": "stream",
          "name": "stdout",
          "text": [
            "[['i', 'am', 'go', 'to', 'take', 'a', 'slightli', 'differ', 'perspect', 'than', 'the', 'usual', 'poster', 'i', 'will', 'tell', 'you', 'what', 'the', 'point', 'of', 'cryptocurr', 'is', 'from', 'the', 'perspect', 'of', 'be', 'utilis', 'to', 'disrupt', 'a', 'corrupt', 'nich', 'industri', 'sinc', 'full', 'disclosur', 'one', 'of', 'the', 'project', 'i', 'am', 'most', 'passion', 'about', 'is', 'the', 'get', 'protocol', 'then', 'i', 'will', 'use', 'it', 'as', 'my', 'exampl', 'and', 'tell', 'you', 'whi', 'the', 'ticket', 'industri', 'can', 'benefit', 'from', 'blockchain', 'and', 'cryptocurr', 'and', 'whi', 'the', 'averag', 'person', 'will', 'be', 'better', 'off', 'so', 'firstli', 'let', 'discuss', 'the', 'current', 'issu', 'right', 'now', 'as', 'it', 'stand', 'the', 'ticket', 'industri', 'is', 'incred', 'corrupt', 'with', 'profession', 'ticket', 'tout', 'snatch', 'ticket', 'off', 'primari', 'market', 'and', 'then', 'upsel', 'them', 'goug', 'the', 'fan', 'of', 'artist', 'comedian', 'entertain', 'and', 'so', 'forth', 'it', 'ha', 'becom', 'such', 'an', 'issu', 'that', 'mani', 'artist', 'are', 'now', 'tri', 'to', 'stand', 'up', 'to', 'give', 'their', 'fan', 'a', 'better', 'experi', 'but', 'websit', 'such', 'as', 'viagogo', 'and', 'even', 'some', 'of', 'ticketmast', 'own', 'secondari', 'resel', 'site', 'still', 'control', 'the', 'market', 'and', 'caus', 'havoc', 'for', 'those', 'tri', 'to', 'have', 'fair', 'price', 'for', 'event', 'it', 'wa', 'theoriz', 'in', 'the', 'begin', 'of', 'blockchain', 'that', 'ticket', 'wa', 'a', 'good', 'exampl', 'of', 'use', 'for', 'blockchain', 'and', 'lot', 'of', 'peopl', 'would', 'say', 'thi', 'wa', 'clich', 'but', 'it’', 'actual', 'veri', 'veri', 'use', 'thank', 'to', 'ethereum', 'main', 'net', 'the', 'resourc', 'were', 'in', 'place', 'to', 'get', 'start', 'solv', 'thi', 'issu', 'thi', 'is', 'where', 'amsterdam', 'base', 'gut', 'ticket', 'ha', 'come', 'in', 'to', 'solv', 'and', 'tackl', 'the', 'problem', 'with', 'their', 'soon', 'to', 'be', 'open', 'sourc', 'get', 'protocol', 'and', 'the', 'get', 'guarante', 'entranc', 'token', 'cryptocurr', 'a', 'littl', 'bit', 'of', 'prefac', 'about', 'gut', 'they', 'start', 'at', 'the', 'begin', 'of', '2016', 'by', 'develop', 'a', 'vision', 'of', 'a', 'ticket', 'applic', 'that', 'would', 'run', 'on', 'top', 'of', 'a', 'protocol', 'that', 'anyon', 'could', 'use', 'to', 'ticket', 'their', 'event', 'which', 'would', 'be', 'transpar', 'fair', 'and', 'easi', 'to', 'use', 'as', 'it', 'stand', 'the', 'gut', 'ticket', 'applic', 'is', 'take', 'the', 'netherland', 'by', 'storm', 'with', 'over', '80k', 'ticket', 'sold', 'and', '1', 'million', 'be', 'solid', 'by', 'the', 'end', 'of', 'next', 'year', 'a', 'plethora', 'of', 'famou', 'dutch', 'artist', 'and', 'comedian', 'such', 'as', 'jochem', 'myjer', 'guu', 'meeuwi', 'and', 'even', 'french', 'superstar', 'zaz', 'use', 'gut', 'for', 'their', 'show', 'in', 'juli', 'of', 'thi', 'year', 'all', 'these', 'ticket', 'will', 'start', 'to', 'be', 'sold', 'on', 'the', 'ethereum', 'main', 'net', 'after', 'a', 'year', 'of', 'ticket', 'be', 'perform', 'through', 'the', 'kovan', 'ethereum', 'testnet', 'each', 'and', 'everi', 'smart', 'ticket', 'will', 'need', 'get', 'in', 'order', 'to', 'be', 'creat', 'the', 'get', 'back', 'each', 'and', 'everi', 'ticket', 'now', 'you', 'may', 'be', 'wonder', 'well', 'what', 'about', 'a', 'person', 'who', 'ha', 'no', 'care', 'for', 'blockchain', 'or', 'cryptocurr', 'let', 'take', '80', 'year', 'old', 'hardcor', 'raver', 'dorri', 'for', 'exampl', 'she', 'love', 'her', 'rave', 'but', 'hate', 'technolog', 'and', 'doesn’t', 'care', 'for', 'it', 'you', 'know', 'for', 'certain', 'she', 'won’t', 'have', 'a', 'clue', 'about', 'crypto', 'for', 'reason', 'like', 'thi', 'the', 'gut', 'team', 'have', 'design', 'everyth', 'so', 'that', 'it', 'give', 'the', 'best', 'user', 'experi', 'possibl', 'through', 'the', 'gut', 'ticket', 'app', 'websit', 'or', 'artist', 'page', 'ticket', 'can', 'be', 'purchas', 'in', 'fiat', 'the', 'event', 'goer', 'never', 'know', 'that', 'crypto', 'or', 'blockchain', 'is', 'use', 'as', 'it', 'is', 'all', 'in', 'the', 'background', 'drive', 'the', 'user', 'experi', 'the', 'ticket', 'are', 'tie', 'to', 'the', 'user', 'smartphon', 'and', 'have', 'a', 'seri', 'of', 'measur', 'in', 'place', 'to', 'prevent', 'ticket', 'resel', 'such', 'as', 'shuffl', 'dynam', 'qr', 'code', 'that', 'cannot', 'be', 'screenshot', 'and', 'resold', 'aswel', 'as', 'each', 'ticket', 'be', 'tie', 'to', 'an', 'individu', 'sim', 'of', 'the', 'user', 'phone', 'the', 'blockchain', 'drive', 'the', 'user', 'experi', 'is', 'exactli', 'what', 'blockchain', 'need', 'to', 'thrive', 'it', 'should', 'be', 'use', 'to', 'power', 'great', 'piec', 'of', 'softwar', 'and', 'tech', 'becaus', '90', 'of', 'the', 'gener', 'popul', 'won’t', 'care', 'about', 'blockchain', 'they', 'will', 'simpli', 'care', 'about', 'the', 'cool', 'app', 'that', 'come', 'with', 'it', 'so', 'after', 'juli', 'thousand', 'of', 'ticket', 'will', 'be', 'sold', 'that', 'are', 'back', 'by', 'get', 'but', 'purchas', 'by', 'the', 'end', 'user', 'in', 'fiat', 'thank', 'to', 'get', 'each', 'ticket', 'lifecycl', 'can', 'be', 'track', 'on', 'the', 'blockchain', 'each', 'ticket', 'state', 'such', 'as', 'bought', 'scan', 'sold', 'etc', 'can', 'be', 'record', 'and', 'track', 'by', 'anyon', 'and', 'everyon', 'a', 'tech', 'mind', 'fan', 'an', 'artist', 'want', 'fairer', 'system', 'for', 'their', 'fan', 'a', 'venu', 'need', 'easili', 'audit', 'ticket', 'solut', 'the', 'potenc', 'of', 'cryptocurr', 'is', 'fulli', 'unlock', 'but', 'ha', 'zero', 'of', 'the', 'downfal', 'with', 'tradit', 'have', 'to', 'buy', 'cryptocurr', 'from', 'an', 'exchang', 'the', 'get', 'protocol', 'will', 'be', 'fulli', 'open', 'sourc', 'sometim', 'next', 'year', 'mean', 'anyon', 'and', 'everyon', 'can', 'set', 'up', 'and', 'ticket', 'event', 'on', 'the', 'protocol', 'thi', 'mean', 'ani', 'ticket', 'compani', 'look', 'for', 'a', 'fairer', 'backend', 'ani', 'bud', 'artist', 'need', 'a', 'ticket', 'solut', 'that', 'is', 'open', 'and', 'far', 'easier', 'than', 'use', 'tradit', 'compani', 'can', 'do', 'so', 'in', 'a', 'fair', 'and', 'fulli', 'control', 'manner', 'now', 'let', 'get', 'on', 'to', 'whi', 'you', 'as', 'a', 'crypto', 'investor', 'may', 'care', 'for', 'get', 'token', 'firstli', 'as', 'mention', 'they', 'are', 'need', 'for', 'everi', 'ticket', 'sold', 'on', 'the', 'protocol', 'as', 'well', 'as', 'though', 'through', 'gut', 'ticket', 'applic', 'there', 'are', 'onli', '103', 'million', 'token', 'in', 'circul', 'with', 'a', 'max', 'circul', 'suppli', 'of', '135', 'million', 'get', 'each', 'event', 'on', 'the', 'protocol', 'will', 'purchas', 'get', 'from', 'a', 'stabilti', 'fund', 'which', 'is', 'in', 'place', 'that', 'never', 'touch', 'the', 'circul', 'suppli', 'onc', 'get', 'is', 'purchas', 'from', 'the', 'sf', 'the', 'sf', 'must', 'replenish', 'itself', 'by', 'place', 'buy', 'contract', 'on', 'exchang', 'these', 'will', 'be', 'place', 'use', 'a', 'price', 'oracl', 'and', 'will', 'be', 'set', 'at', 'the', 'averag', 'price', 'of', 'each', 'get', 'on', 'exchang', 'thi', 'will', 'have', 'a', 'major', 'effect', 'on', 'posit', 'price', 'action', 'drive', 'up', 'demand', 'for', 'get', 'significantli', 'for', 'exampl', '30k', 'ticket', 'on', 'the', 'gut', 'applic', 'will', 'buy', 'approxim', '4060k', 'usd', 'worth', 'of', 'get', 'off', 'the', 'exchang', 'which', 'can', 'not', 'onli', 'make', 'volum', 'far', 'greater', 'than', 'the', 'averag', 'crypto', 'sinc', 'there', 'are', 'extern', 'sourc', 'at', 'play', 'but', 'help', 'allevi', 'ani', 'downward', 'sell', 'pressur', 'ive', 'told', 'you', 'about', 'the', 'potenti', 'of', 'get', 'be', 'use', 'and', 'the', 'fact', 'that', 'the', 'protocol', 'can', 'be', 'use', 'to', 'ticket', 'event', 'for', 'theatr', 'sport', 'game', 'festiv', 'but', 'it', 'can', 'even', 'be', 'use', 'for', 'public', 'transport', 'flight', 'ticket', 'and', 'the', 'possibl', 'is', 'endless', 'i', 'hope', 'you', 'guy', 'see', 'the', 'potenti', 'in', 'thi', 'too', 'and', 'let', 'me', 'know', 'if', 'you', 'have', 'ani', 'question'], ['i', 'love', 'the', 'look', 'of', 'ark', 'from', 'what', 'i', 'read', 'what', 'i', 'find', 'annoy', 'is', 'their', 'roadmap', 'in', 'the', 'circl', 'with', 'complet', 'with', 'no', 'timelin', 'attach', 'to', 'anyth', 'if', 'peopl', 'are', 'go', 'to', 'mass', 'invest', 'we', 'need', 'timelin', 'project', 'date', 'of', 'complet', 'etc', 'there', 'calendar', 'is', 'empti', 'in', 'the', 'forseeabl', 'futur', 'from', 'what', 'i', 'could', 'find', 'can', 'you', 'shed', 'ani', 'light', 'on', 'thi'], ['how', 'about', 'the', 'peopl', 'that', 'did', 'it', 'right', 'and', 'didnt', 'get', 'their', 'fund', 'stolen'], ['i', 'think', 'so', 'pbl', 'prl', 'and', 'dbc', 'are', 'great', 'project', 'bnti', 'announc', 'yesterday', 'that', 'they', 'are', 'gonna', 'be', 'on', 'anoth', 'exchang', '94', 'last', '24h'], ['defin', 'they', 'are', 'more', 'visionari', 'then', 'mani', 'other', 'countri', 'fude', 'the', 'market', 'now', 'the', 'govern', 'grasp', 'the', 'valu', 'and', 'inevit', 'of', 'blockchain', 'technolog', 'now', 'rather', 'then', 'stifl', 'innov', 'they', 'embrac', 'it', 'to', 'establish', 'a', 'firm', 'foothold', 'in', 'the', 'industri', 'all', 'at', 'the', 'same', 'time', 'establish', 'clear', 'guidelin', 'on', 'crypto', 'trade', 'now', 'that', 'smart', 'pragmat', 'govern', '👍👍'], ['shouldnt', 'matter', 'if', 'it', 'not', 'the', 'email', 'thing', 'then', 'check', 'the', 'btc', 'address', 'your', 'withdraw', 'too', 'is', 'correct', 'after', 'that', 'contact', 'support', 'becaus', 'you', 'may', 'have', 'an', 'issu', 'with', 'your', 'account'], ['ye', 'thi', 'would', 'be', 'help', 'i', 'would', 'read', 'it'], ['whi', 'did', 'you', 'loan', 'the', 'govern', 'your', 'money'], ['sadli', 'blockchain', 'isnt', 'the', 'solut', 'at', 'all'], ['no', 'they', 'arent', 'lol'], ['problem', 'is', 'you', 'don’t', 'have', 'drgn'], ['where', 'can', 'u', 'buy', 'it'], ['but', 'did', 'you', 'ever', 'get', 'that', 'lambo'], ['enjin', 'is', 'about', 'to', 'launch', 'their', 'minecraft', 'plug', 'in', 'to', 'their', 'exist', 'user', 'base'], ['well', 'you', 'guy', 'had', 'the', 'choic', 'to', 'quit', 'and', 'work', 'on', 'your', 'own', 'chain', 'that', 'how', 'decentr', 'work', 'you', 'got', 'all', 'your', 'etc', 'the', 'market', 'just', 'isnt', 'pay', 'for', 'it', 'your', 'like', 'thi', 'is', 'central', 'becaus', 'the', 'market', 'chose', 'someth', 'that', 'i', 'didnt'], ['i', 'hold', 'bat', 'and', 'am', 'look', 'for', 'good', 'thingsjust', 'also', 'common', 'sens', 'i', 'do', 'think', 'thi', 'is', 'an', 'import', 'comment', 'with', 'eth', 'at', 'it', 'current', 'price', 'look', 'at', 'how', 'mani', 'project', 'are', 'actual', 'use', 'the', 'ethereum', 'blockchain', 'thi', 'one', 'bat', 'clearli', 'ha', 'softwar', 'and', 'decentr', 'softwar', 'creation', 'capabl', 'whi', 'did', 'they', 'not', 'just', 'take', 'the', 'extra', 'time', 'to', 'build', 'a', 'peer', 'client', 'that', 'build', 'a', 'blockchain', 'attach', 'to', 'a', 'browser', 'or', 'some', 'deriv', 'of', 'that', 'isnt', 'the', 'founder', 'of', 'javascript', 'involv', 'in', 'thi', 'project'], ['yea', 'true', 'like', 'you', 'say', 'major', 'but', 'you', 'can', 'alway', 'go', 'wrong', 'with', 'etherdelta', 'one', 'of', 'the', 'worst', 'exchang', 'ever'], ['welcom', 'to', '0', 'regul'], ['si', 'coin', 'soon', 'to', 'hit', '1', 'cent', 'in', 'the', 'futur'], ['blockfolio', 'delta', 'is', 'better', 'though'], ['we', 'are', 'as', 'legit', 'as', 'it', 'get', 'project', 'launch', '1', 'month', 'ago', 'and', 'expect', 'it', 'to', 'be', 'solid', 'by', 'the', 'end', 'of', 'the', 'year', 'in', 'februari', 'the', 'otn', 'blockchain', 'will', 'be', 'on', 'and', 'user', 'can', 'start', 'use', 'their', 'token', 'for', 'transact', 'on', 'it'], ['charli', 'lee', 'annoy', 'me', 'im', 'not', 'gonna', 'lie'], ['instant', 'ach', 'on', 'coinbas', 'ive', 'done', 'it', 'mani', 'time'], ['yeah', 'yeah', 'you', 'keep', 'repeat', 'thi', 'over', 'and', 'over', 'i', 'still', 'think', 'it', 'bullshit', 'and', 'your', 'miss', 'the', 'point'], ['achain', 'is', 'a', 'serious', 'undervalu', 'project', 'been', 'hold', 'it', 'for', 'over', '1', 'month', 'now'], ['hmm', 'mayb', 'but', 'price', 'pump', 'and', 'dump', 'regardless', 'of', 'what', 'dev', 'do', 'too', 'and', 'shill', 'and', 'pumper', 'mayb', 'someon', 'got', 'wind', 'of', 'a', 'deal'], ['lambolaugh', 'at', 'my', 'broke', 'orific'], ['im', 'invest', 'in', 'trx', 'it', 'ha', 'made', 'me', 'money', 'but', 'i', 'have', 'no', 'hope', 'for', 'the', 'futur', 'with', 'it', 'i', 'use', 'it', 'as', 'a', 'vessel', 'to', 'increas', 'fund', 'on', 'the', 'short', 'term', 'to', 'buy', 'into', 'establish', 'coin', 'like', 'eth', 'i', 'will', 'still', 'buy', 'trx', 'on', 'the', 'dip', 'and', 'sell', 'on', 'the', 'high', 'and', 'pump', 'into', 'eth', 'you', 'are', 'the', 'reason', 'that', 'trx', 'get', 'a', 'bad', 'name', 'apart', 'from', 'the', 'obviou', 'fuck', 'up', 'with', 'whitepap', 'etc', 'it', 'make', 'all', 'trx', 'investor', 'look', 'immatur', 'let', 'peopl', 'buy', 'their', 'own', 'coin', 'make', 'their', 'own', 'invest', 'but', 'if', 'you', 'were', 'smart', 'you', 'wpuld', 'be', 'look', 'to', 'convert', 'ani', 'gain', 'to', 'a', 'long', 'term', 'solut'], ['theyll', 'come', 'up', 'with', 'someth', 'they', 'alway', 'do'], ['in', 'case', 'you', 'guy', 'didnt', 'notic', 'today', 'is', 'crypto', 'black', 'friday', 'all', 'crypto', 'up', 'to', '50', 'off'], ['we', 'sincer', 'apolog', 'for', 'the', 'delay', 'occur', 'due', 'to', 'the', 'extrem', 'high', 'demand', 'for', 'eth', 'some', 'transact', 'have', 'not', 'been', 'includ', 'into', 'the', 'blockchain', 'your', 'transact', 'ha', 'been', 'push', 'through', 'again', 'you', 'should', 'receiv', 'your', 'coin', 'in', 'the', 'next', 'few', 'hour', 'thank', 'you', 'for', 'your', 'trust', 'we', 'appreci', 'that'], ['ahhh', 'thank'], ['price', 'will', 'go', 'x3', 'major', 'publish', 'is', 'known', 'and', 'will', 'be', 'announc'], ['damn', 'almost', 'bought', 'into', 'thi', 'as', 'a', 'new', 'investor', 'thank'], ['bittrex', 'is', 'aid', 'binanc', 'for', 'life', 'boiiii'], ['not', 'the', 'worst', 'thing', 'someon', 'ha', 'ever', 'said', 'to', 'me'], ['it', 'a', 'line', 'from', 'the', 'back', 'vocal', 'in', 'the', 'song'], ['at', 'first', 'start', 'to', 'read', 'that', 'as', 'i', 'dont', 'know', 'where', 'youv', 'been', 'all', 'my', 'life', 'but', 'then', 'thing', 'went', 'down', 'hill', 'suddenli'], ['nobodi', 'is', 'pay', 'attent', 'to', 'qrl', 'and', 'it', 'is', 'go', 'to', 'launch', 'the', 'mainnet', 'on', 'q1', '2018', 'there', 'is', 'your', 'opportun'], ['from', 'what', 'i', 'understand', 'there', 'is', 'no', 'proof', 'that', 'tether', 'actual', 'ha', 'a', 'back', 'of', '1', 'usd', 'if', 'the', 'compani', 'that', 'control', 'the', 'suppli', 'of', 'tether', 'print', 'more', 'tether', 'freeli', 'without', 'the', 'back', 'and', 'then', 'bought', 'bitcoin', 'with', 'it', 'bitcoin', 'would', 'be', 'overvalu'], ['monero', 'will', 'neve', 'scale', 'it', 'transact', 'size', 'is', '40x', 'time', 'larger', 'than', 'the', 'dash'], ['oh', 'great', 'anoth', 'comedi', 'post', 'what', 'the', 'hell', 'is', 'thi', 'cr', 'oh', 'hello', 'special', 'agent', 'cooper', 'thi', 'here', 'is', 'an', 'upvot'], ['eth', 'cannot', 'scale', 'it', 'cost', 'to', 'run', 'dapp', 'ga', 'dapp', 'develop', 'is', 'lacklustr', 'mine', 'is', 'environment', 'unfriendli', 'the', 'lion', 'share', 'of', 'ico', 'erc20', 'are', 'dead', 'coin', 'spin', 'answer', 'e', 'o', 's', 'look', 'at', 'the', 'chart', 'compar', 'the', 'price', 'of', 'etheo', 'the', 'write', 'is', 'on', 'the', 'wall', 'for', 'eth', 'thank', 'me', 'later', 'peac'], ['you', 'op', 'are', 'a', 'potato'], ['mmmmkay', 'mayb', 'we', 'can', 'talk', 'about', 'thi', 'lateraft', 'theyv', 'had', 'the', 'summit', 'and', 'then', 'we', 'can', 'discuss', 'the', 'outcom', 'of', 'that', 'summit', 'good', 'and', 'bad', 'good', 'news', 'isnt', 'worth', 'two', 'bob', 'becaus', 'it', 'could', 'just', 'be', 'lip', 'servic', 'ive', 'learn', 'never', 'to', 'trust', 'govern', 'offici', 'not', 'to', 'backflip', 'in', 'all', 'likelihood', 'itll', 'be', 'finebut', 'sadli', 'i', 'dont', 'have', 'the', 'clairvoy', 'to', 'be', 'a', 'fortun', 'teller', 'as', 'my', 'crystal', 'ball', 'is', 'cloudi'], ['see', 'i', 'got', 'into', 'tron', 'for', 'thi', 'reason', 'a', 'next', 'era', 'of', 'web', '40', 'for', 'me', 'use', 'block', 'chain', 'i', 'saw', 'the', 'project', 'go', 'down', 'an', 'encrypt', 'www', 'where', 'govermnet', 'could', 'not', 'shut', 'down', 'or', 'block', 'free', 'speach', 'limit', 'access', 'to', 'specif', 'site', 'when', 'upris', 'start', 'and', 'not', 'just', 'that', 'but', 'give', 'a', 'way', 'to', 'get', 'around', 'a', 'possibl', 'net', 'neutral', 'that', 'could', 'soon', 'effect', 'everyon', 'that', 'wa', 'my', 'vision', 'for', 'it', 'and', 'my', 'interperit', 'of', 'thi', 'the', 'protocol', 'allow', 'each', 'user', 'to', 'freeli', 'publish', 'store', 'and', 'own', 'data', 'and', 'in', 'the', 'decentr', 'autonom', 'form', 'decid', 'the', 'distribut', 'subscript', 'and', 'push', 'of', 'content', 'and', 'enabl', 'content', 'creator', 'by', 'releas', 'circul', 'and', 'deal', 'with', 'digit', 'asset', 'thu', 'form', 'a', 'decentr', 'content', 'entertain', 'ecosystem', 'to', 'me', 'i', 'read', 'that', 'as', 'the', 'internet', 'but', 'i', 'know', 'other', 'see', 'it', 'as', 'some', 'kind', 'of', 'game', 'video', 'and', 'music', 'share', 'and', 'or', 'payment', 'featur', 'i', 'dont', 'get', 'everyth', 'tron', 'is', 'do', 'the', 'translat', 'dont', 'help', 'but', 'that', 'is', 'someth', 'they', 'said', 'they', 'would', 'work', 'on', 'now', 'the', 'constant', 'hype', 'thi', 'week', 'the', 'gamecom', 'domain', 'and', 'thi', 'dog', 'stuff', 'i', 'understand', 'from', 'a', 'market', 'point', 'whi', 'it', 'done', 'but', 'i', 'dont', 'think', 'it', 'the', 'direct', 'i', 'origin', 'bought', 'in', 'for', 'so', 'my', 'plan', 'is', 'to', 'just', 'ride', 'till', 'it', 'and', 'if', 'i', 'hit', '£05077', 'or', 'higher', 'and', 'then', 'cash', 'out', 'leav', '10100', 'tron', 'behind', 'for', 'a', 'what', 'if', 'it', 'will', 'have', 'surv', 'it', 'purpos', 'i', 'think', 'everi', 'crypto', 'is', 'bullshit', 'if', 'you', 'read', 'on', 'here', 'or', 'check', 'daili', 'your', 'here', 'for', 'money', 'noth', 'els', 'chang', 'the', 'world', 'and', 'break', 'the', 'bank', 'chain', 'ha', 'noth', 'to', 'do', 'with', 'it', 'tech', 'adapt', 'money', 'everyth', 'doe', 'and', 'will', 'take', 'time', 'it', 'about', 'find', 'a', 'few', 'project', 'you', 'have', 'some', 'faith', 'in', 'and', 'then', 'weed', 'them', 'out', 'as', 'time', 'goe', 'on'], ['and', 'anoth', 'person', 'specul'], ['i', 'run', 'arch', 'but', 'thank', 'for', 'the', 'link'], ['what', 'go', 'on', 'with', 'kucoin', 'i', 'been', 'see', 'it', 'mention', 'a', 'lot', 'today', 'i', 'have', 'dbc', 'on', 'kucoin', 'at', 'the', 'moment'], ['becaus', 'big', 'money', 'can’t', 'put', 'larg', 'buy', 'and', 'sell', 'in', 'without', 'significantli', 'move', 'the', 'market', 'the', 'fact', 'that', 'whale', 'can', 'still', 'affect', 'the', 'market', 'is', 'becaus', 'of', 'the', 'illiquid', 'of', 'it', 'world', 'book', 'will', 'chang', 'that']]\n"
          ]
        }
      ]
    },
    {
      "cell_type": "markdown",
      "source": [
        "## Lemmatization"
      ],
      "metadata": {
        "id": "TpEnIgqzcxgD"
      }
    },
    {
      "cell_type": "code",
      "source": [
        "from nltk.stem import WordNetLemmatizer\n",
        "\n",
        "# Initialize the WordNetLemmatizer\n",
        "lemmatizer = WordNetLemmatizer()\n",
        "\n",
        "# Lemmatize each word in the stemmed_text_array\n",
        "lemmatized_text_array = [[lemmatizer.lemmatize(word) for word in text] for text in stemmed_text_array]\n"
      ],
      "metadata": {
        "id": "mC2G9QcBB9YH"
      },
      "execution_count": 13,
      "outputs": []
    },
    {
      "cell_type": "code",
      "source": [
        "# Print the first few elements of the lemmatized_text_array to verify the removal\n",
        "print(lemmatized_text_array[:50])"
      ],
      "metadata": {
        "colab": {
          "base_uri": "https://localhost:8080/"
        },
        "id": "jO7Y0rDl0Q8q",
        "outputId": "4983769c-ca6d-4fe5-99c7-8e48673dc9b5"
      },
      "execution_count": 14,
      "outputs": [
        {
          "output_type": "stream",
          "name": "stdout",
          "text": [
            "[['i', 'am', 'go', 'to', 'take', 'a', 'slightli', 'differ', 'perspect', 'than', 'the', 'usual', 'poster', 'i', 'will', 'tell', 'you', 'what', 'the', 'point', 'of', 'cryptocurr', 'is', 'from', 'the', 'perspect', 'of', 'be', 'utilis', 'to', 'disrupt', 'a', 'corrupt', 'nich', 'industri', 'sinc', 'full', 'disclosur', 'one', 'of', 'the', 'project', 'i', 'am', 'most', 'passion', 'about', 'is', 'the', 'get', 'protocol', 'then', 'i', 'will', 'use', 'it', 'a', 'my', 'exampl', 'and', 'tell', 'you', 'whi', 'the', 'ticket', 'industri', 'can', 'benefit', 'from', 'blockchain', 'and', 'cryptocurr', 'and', 'whi', 'the', 'averag', 'person', 'will', 'be', 'better', 'off', 'so', 'firstli', 'let', 'discus', 'the', 'current', 'issu', 'right', 'now', 'a', 'it', 'stand', 'the', 'ticket', 'industri', 'is', 'incred', 'corrupt', 'with', 'profession', 'ticket', 'tout', 'snatch', 'ticket', 'off', 'primari', 'market', 'and', 'then', 'upsel', 'them', 'goug', 'the', 'fan', 'of', 'artist', 'comedian', 'entertain', 'and', 'so', 'forth', 'it', 'ha', 'becom', 'such', 'an', 'issu', 'that', 'mani', 'artist', 'are', 'now', 'tri', 'to', 'stand', 'up', 'to', 'give', 'their', 'fan', 'a', 'better', 'experi', 'but', 'websit', 'such', 'a', 'viagogo', 'and', 'even', 'some', 'of', 'ticketmast', 'own', 'secondari', 'resel', 'site', 'still', 'control', 'the', 'market', 'and', 'caus', 'havoc', 'for', 'those', 'tri', 'to', 'have', 'fair', 'price', 'for', 'event', 'it', 'wa', 'theoriz', 'in', 'the', 'begin', 'of', 'blockchain', 'that', 'ticket', 'wa', 'a', 'good', 'exampl', 'of', 'use', 'for', 'blockchain', 'and', 'lot', 'of', 'peopl', 'would', 'say', 'thi', 'wa', 'clich', 'but', 'it’', 'actual', 'veri', 'veri', 'use', 'thank', 'to', 'ethereum', 'main', 'net', 'the', 'resourc', 'were', 'in', 'place', 'to', 'get', 'start', 'solv', 'thi', 'issu', 'thi', 'is', 'where', 'amsterdam', 'base', 'gut', 'ticket', 'ha', 'come', 'in', 'to', 'solv', 'and', 'tackl', 'the', 'problem', 'with', 'their', 'soon', 'to', 'be', 'open', 'sourc', 'get', 'protocol', 'and', 'the', 'get', 'guarante', 'entranc', 'token', 'cryptocurr', 'a', 'littl', 'bit', 'of', 'prefac', 'about', 'gut', 'they', 'start', 'at', 'the', 'begin', 'of', '2016', 'by', 'develop', 'a', 'vision', 'of', 'a', 'ticket', 'applic', 'that', 'would', 'run', 'on', 'top', 'of', 'a', 'protocol', 'that', 'anyon', 'could', 'use', 'to', 'ticket', 'their', 'event', 'which', 'would', 'be', 'transpar', 'fair', 'and', 'easi', 'to', 'use', 'a', 'it', 'stand', 'the', 'gut', 'ticket', 'applic', 'is', 'take', 'the', 'netherland', 'by', 'storm', 'with', 'over', '80k', 'ticket', 'sold', 'and', '1', 'million', 'be', 'solid', 'by', 'the', 'end', 'of', 'next', 'year', 'a', 'plethora', 'of', 'famou', 'dutch', 'artist', 'and', 'comedian', 'such', 'a', 'jochem', 'myjer', 'guu', 'meeuwi', 'and', 'even', 'french', 'superstar', 'zaz', 'use', 'gut', 'for', 'their', 'show', 'in', 'juli', 'of', 'thi', 'year', 'all', 'these', 'ticket', 'will', 'start', 'to', 'be', 'sold', 'on', 'the', 'ethereum', 'main', 'net', 'after', 'a', 'year', 'of', 'ticket', 'be', 'perform', 'through', 'the', 'kovan', 'ethereum', 'testnet', 'each', 'and', 'everi', 'smart', 'ticket', 'will', 'need', 'get', 'in', 'order', 'to', 'be', 'creat', 'the', 'get', 'back', 'each', 'and', 'everi', 'ticket', 'now', 'you', 'may', 'be', 'wonder', 'well', 'what', 'about', 'a', 'person', 'who', 'ha', 'no', 'care', 'for', 'blockchain', 'or', 'cryptocurr', 'let', 'take', '80', 'year', 'old', 'hardcor', 'raver', 'dorri', 'for', 'exampl', 'she', 'love', 'her', 'rave', 'but', 'hate', 'technolog', 'and', 'doesn’t', 'care', 'for', 'it', 'you', 'know', 'for', 'certain', 'she', 'won’t', 'have', 'a', 'clue', 'about', 'crypto', 'for', 'reason', 'like', 'thi', 'the', 'gut', 'team', 'have', 'design', 'everyth', 'so', 'that', 'it', 'give', 'the', 'best', 'user', 'experi', 'possibl', 'through', 'the', 'gut', 'ticket', 'app', 'websit', 'or', 'artist', 'page', 'ticket', 'can', 'be', 'purchas', 'in', 'fiat', 'the', 'event', 'goer', 'never', 'know', 'that', 'crypto', 'or', 'blockchain', 'is', 'use', 'a', 'it', 'is', 'all', 'in', 'the', 'background', 'drive', 'the', 'user', 'experi', 'the', 'ticket', 'are', 'tie', 'to', 'the', 'user', 'smartphon', 'and', 'have', 'a', 'seri', 'of', 'measur', 'in', 'place', 'to', 'prevent', 'ticket', 'resel', 'such', 'a', 'shuffl', 'dynam', 'qr', 'code', 'that', 'cannot', 'be', 'screenshot', 'and', 'resold', 'aswel', 'a', 'each', 'ticket', 'be', 'tie', 'to', 'an', 'individu', 'sim', 'of', 'the', 'user', 'phone', 'the', 'blockchain', 'drive', 'the', 'user', 'experi', 'is', 'exactli', 'what', 'blockchain', 'need', 'to', 'thrive', 'it', 'should', 'be', 'use', 'to', 'power', 'great', 'piec', 'of', 'softwar', 'and', 'tech', 'becaus', '90', 'of', 'the', 'gener', 'popul', 'won’t', 'care', 'about', 'blockchain', 'they', 'will', 'simpli', 'care', 'about', 'the', 'cool', 'app', 'that', 'come', 'with', 'it', 'so', 'after', 'juli', 'thousand', 'of', 'ticket', 'will', 'be', 'sold', 'that', 'are', 'back', 'by', 'get', 'but', 'purchas', 'by', 'the', 'end', 'user', 'in', 'fiat', 'thank', 'to', 'get', 'each', 'ticket', 'lifecycl', 'can', 'be', 'track', 'on', 'the', 'blockchain', 'each', 'ticket', 'state', 'such', 'a', 'bought', 'scan', 'sold', 'etc', 'can', 'be', 'record', 'and', 'track', 'by', 'anyon', 'and', 'everyon', 'a', 'tech', 'mind', 'fan', 'an', 'artist', 'want', 'fairer', 'system', 'for', 'their', 'fan', 'a', 'venu', 'need', 'easili', 'audit', 'ticket', 'solut', 'the', 'potenc', 'of', 'cryptocurr', 'is', 'fulli', 'unlock', 'but', 'ha', 'zero', 'of', 'the', 'downfal', 'with', 'tradit', 'have', 'to', 'buy', 'cryptocurr', 'from', 'an', 'exchang', 'the', 'get', 'protocol', 'will', 'be', 'fulli', 'open', 'sourc', 'sometim', 'next', 'year', 'mean', 'anyon', 'and', 'everyon', 'can', 'set', 'up', 'and', 'ticket', 'event', 'on', 'the', 'protocol', 'thi', 'mean', 'ani', 'ticket', 'compani', 'look', 'for', 'a', 'fairer', 'backend', 'ani', 'bud', 'artist', 'need', 'a', 'ticket', 'solut', 'that', 'is', 'open', 'and', 'far', 'easier', 'than', 'use', 'tradit', 'compani', 'can', 'do', 'so', 'in', 'a', 'fair', 'and', 'fulli', 'control', 'manner', 'now', 'let', 'get', 'on', 'to', 'whi', 'you', 'a', 'a', 'crypto', 'investor', 'may', 'care', 'for', 'get', 'token', 'firstli', 'a', 'mention', 'they', 'are', 'need', 'for', 'everi', 'ticket', 'sold', 'on', 'the', 'protocol', 'a', 'well', 'a', 'though', 'through', 'gut', 'ticket', 'applic', 'there', 'are', 'onli', '103', 'million', 'token', 'in', 'circul', 'with', 'a', 'max', 'circul', 'suppli', 'of', '135', 'million', 'get', 'each', 'event', 'on', 'the', 'protocol', 'will', 'purchas', 'get', 'from', 'a', 'stabilti', 'fund', 'which', 'is', 'in', 'place', 'that', 'never', 'touch', 'the', 'circul', 'suppli', 'onc', 'get', 'is', 'purchas', 'from', 'the', 'sf', 'the', 'sf', 'must', 'replenish', 'itself', 'by', 'place', 'buy', 'contract', 'on', 'exchang', 'these', 'will', 'be', 'place', 'use', 'a', 'price', 'oracl', 'and', 'will', 'be', 'set', 'at', 'the', 'averag', 'price', 'of', 'each', 'get', 'on', 'exchang', 'thi', 'will', 'have', 'a', 'major', 'effect', 'on', 'posit', 'price', 'action', 'drive', 'up', 'demand', 'for', 'get', 'significantli', 'for', 'exampl', '30k', 'ticket', 'on', 'the', 'gut', 'applic', 'will', 'buy', 'approxim', '4060k', 'usd', 'worth', 'of', 'get', 'off', 'the', 'exchang', 'which', 'can', 'not', 'onli', 'make', 'volum', 'far', 'greater', 'than', 'the', 'averag', 'crypto', 'sinc', 'there', 'are', 'extern', 'sourc', 'at', 'play', 'but', 'help', 'allevi', 'ani', 'downward', 'sell', 'pressur', 'ive', 'told', 'you', 'about', 'the', 'potenti', 'of', 'get', 'be', 'use', 'and', 'the', 'fact', 'that', 'the', 'protocol', 'can', 'be', 'use', 'to', 'ticket', 'event', 'for', 'theatr', 'sport', 'game', 'festiv', 'but', 'it', 'can', 'even', 'be', 'use', 'for', 'public', 'transport', 'flight', 'ticket', 'and', 'the', 'possibl', 'is', 'endless', 'i', 'hope', 'you', 'guy', 'see', 'the', 'potenti', 'in', 'thi', 'too', 'and', 'let', 'me', 'know', 'if', 'you', 'have', 'ani', 'question'], ['i', 'love', 'the', 'look', 'of', 'ark', 'from', 'what', 'i', 'read', 'what', 'i', 'find', 'annoy', 'is', 'their', 'roadmap', 'in', 'the', 'circl', 'with', 'complet', 'with', 'no', 'timelin', 'attach', 'to', 'anyth', 'if', 'peopl', 'are', 'go', 'to', 'mass', 'invest', 'we', 'need', 'timelin', 'project', 'date', 'of', 'complet', 'etc', 'there', 'calendar', 'is', 'empti', 'in', 'the', 'forseeabl', 'futur', 'from', 'what', 'i', 'could', 'find', 'can', 'you', 'shed', 'ani', 'light', 'on', 'thi'], ['how', 'about', 'the', 'peopl', 'that', 'did', 'it', 'right', 'and', 'didnt', 'get', 'their', 'fund', 'stolen'], ['i', 'think', 'so', 'pbl', 'prl', 'and', 'dbc', 'are', 'great', 'project', 'bnti', 'announc', 'yesterday', 'that', 'they', 'are', 'gonna', 'be', 'on', 'anoth', 'exchang', '94', 'last', '24h'], ['defin', 'they', 'are', 'more', 'visionari', 'then', 'mani', 'other', 'countri', 'fude', 'the', 'market', 'now', 'the', 'govern', 'grasp', 'the', 'valu', 'and', 'inevit', 'of', 'blockchain', 'technolog', 'now', 'rather', 'then', 'stifl', 'innov', 'they', 'embrac', 'it', 'to', 'establish', 'a', 'firm', 'foothold', 'in', 'the', 'industri', 'all', 'at', 'the', 'same', 'time', 'establish', 'clear', 'guidelin', 'on', 'crypto', 'trade', 'now', 'that', 'smart', 'pragmat', 'govern', '👍👍'], ['shouldnt', 'matter', 'if', 'it', 'not', 'the', 'email', 'thing', 'then', 'check', 'the', 'btc', 'address', 'your', 'withdraw', 'too', 'is', 'correct', 'after', 'that', 'contact', 'support', 'becaus', 'you', 'may', 'have', 'an', 'issu', 'with', 'your', 'account'], ['ye', 'thi', 'would', 'be', 'help', 'i', 'would', 'read', 'it'], ['whi', 'did', 'you', 'loan', 'the', 'govern', 'your', 'money'], ['sadli', 'blockchain', 'isnt', 'the', 'solut', 'at', 'all'], ['no', 'they', 'arent', 'lol'], ['problem', 'is', 'you', 'don’t', 'have', 'drgn'], ['where', 'can', 'u', 'buy', 'it'], ['but', 'did', 'you', 'ever', 'get', 'that', 'lambo'], ['enjin', 'is', 'about', 'to', 'launch', 'their', 'minecraft', 'plug', 'in', 'to', 'their', 'exist', 'user', 'base'], ['well', 'you', 'guy', 'had', 'the', 'choic', 'to', 'quit', 'and', 'work', 'on', 'your', 'own', 'chain', 'that', 'how', 'decentr', 'work', 'you', 'got', 'all', 'your', 'etc', 'the', 'market', 'just', 'isnt', 'pay', 'for', 'it', 'your', 'like', 'thi', 'is', 'central', 'becaus', 'the', 'market', 'chose', 'someth', 'that', 'i', 'didnt'], ['i', 'hold', 'bat', 'and', 'am', 'look', 'for', 'good', 'thingsjust', 'also', 'common', 'sen', 'i', 'do', 'think', 'thi', 'is', 'an', 'import', 'comment', 'with', 'eth', 'at', 'it', 'current', 'price', 'look', 'at', 'how', 'mani', 'project', 'are', 'actual', 'use', 'the', 'ethereum', 'blockchain', 'thi', 'one', 'bat', 'clearli', 'ha', 'softwar', 'and', 'decentr', 'softwar', 'creation', 'capabl', 'whi', 'did', 'they', 'not', 'just', 'take', 'the', 'extra', 'time', 'to', 'build', 'a', 'peer', 'client', 'that', 'build', 'a', 'blockchain', 'attach', 'to', 'a', 'browser', 'or', 'some', 'deriv', 'of', 'that', 'isnt', 'the', 'founder', 'of', 'javascript', 'involv', 'in', 'thi', 'project'], ['yea', 'true', 'like', 'you', 'say', 'major', 'but', 'you', 'can', 'alway', 'go', 'wrong', 'with', 'etherdelta', 'one', 'of', 'the', 'worst', 'exchang', 'ever'], ['welcom', 'to', '0', 'regul'], ['si', 'coin', 'soon', 'to', 'hit', '1', 'cent', 'in', 'the', 'futur'], ['blockfolio', 'delta', 'is', 'better', 'though'], ['we', 'are', 'a', 'legit', 'a', 'it', 'get', 'project', 'launch', '1', 'month', 'ago', 'and', 'expect', 'it', 'to', 'be', 'solid', 'by', 'the', 'end', 'of', 'the', 'year', 'in', 'februari', 'the', 'otn', 'blockchain', 'will', 'be', 'on', 'and', 'user', 'can', 'start', 'use', 'their', 'token', 'for', 'transact', 'on', 'it'], ['charli', 'lee', 'annoy', 'me', 'im', 'not', 'gonna', 'lie'], ['instant', 'ach', 'on', 'coinbas', 'ive', 'done', 'it', 'mani', 'time'], ['yeah', 'yeah', 'you', 'keep', 'repeat', 'thi', 'over', 'and', 'over', 'i', 'still', 'think', 'it', 'bullshit', 'and', 'your', 'miss', 'the', 'point'], ['achain', 'is', 'a', 'serious', 'undervalu', 'project', 'been', 'hold', 'it', 'for', 'over', '1', 'month', 'now'], ['hmm', 'mayb', 'but', 'price', 'pump', 'and', 'dump', 'regardless', 'of', 'what', 'dev', 'do', 'too', 'and', 'shill', 'and', 'pumper', 'mayb', 'someon', 'got', 'wind', 'of', 'a', 'deal'], ['lambolaugh', 'at', 'my', 'broke', 'orific'], ['im', 'invest', 'in', 'trx', 'it', 'ha', 'made', 'me', 'money', 'but', 'i', 'have', 'no', 'hope', 'for', 'the', 'futur', 'with', 'it', 'i', 'use', 'it', 'a', 'a', 'vessel', 'to', 'increas', 'fund', 'on', 'the', 'short', 'term', 'to', 'buy', 'into', 'establish', 'coin', 'like', 'eth', 'i', 'will', 'still', 'buy', 'trx', 'on', 'the', 'dip', 'and', 'sell', 'on', 'the', 'high', 'and', 'pump', 'into', 'eth', 'you', 'are', 'the', 'reason', 'that', 'trx', 'get', 'a', 'bad', 'name', 'apart', 'from', 'the', 'obviou', 'fuck', 'up', 'with', 'whitepap', 'etc', 'it', 'make', 'all', 'trx', 'investor', 'look', 'immatur', 'let', 'peopl', 'buy', 'their', 'own', 'coin', 'make', 'their', 'own', 'invest', 'but', 'if', 'you', 'were', 'smart', 'you', 'wpuld', 'be', 'look', 'to', 'convert', 'ani', 'gain', 'to', 'a', 'long', 'term', 'solut'], ['theyll', 'come', 'up', 'with', 'someth', 'they', 'alway', 'do'], ['in', 'case', 'you', 'guy', 'didnt', 'notic', 'today', 'is', 'crypto', 'black', 'friday', 'all', 'crypto', 'up', 'to', '50', 'off'], ['we', 'sincer', 'apolog', 'for', 'the', 'delay', 'occur', 'due', 'to', 'the', 'extrem', 'high', 'demand', 'for', 'eth', 'some', 'transact', 'have', 'not', 'been', 'includ', 'into', 'the', 'blockchain', 'your', 'transact', 'ha', 'been', 'push', 'through', 'again', 'you', 'should', 'receiv', 'your', 'coin', 'in', 'the', 'next', 'few', 'hour', 'thank', 'you', 'for', 'your', 'trust', 'we', 'appreci', 'that'], ['ahhh', 'thank'], ['price', 'will', 'go', 'x3', 'major', 'publish', 'is', 'known', 'and', 'will', 'be', 'announc'], ['damn', 'almost', 'bought', 'into', 'thi', 'a', 'a', 'new', 'investor', 'thank'], ['bittrex', 'is', 'aid', 'binanc', 'for', 'life', 'boiiii'], ['not', 'the', 'worst', 'thing', 'someon', 'ha', 'ever', 'said', 'to', 'me'], ['it', 'a', 'line', 'from', 'the', 'back', 'vocal', 'in', 'the', 'song'], ['at', 'first', 'start', 'to', 'read', 'that', 'a', 'i', 'dont', 'know', 'where', 'youv', 'been', 'all', 'my', 'life', 'but', 'then', 'thing', 'went', 'down', 'hill', 'suddenli'], ['nobodi', 'is', 'pay', 'attent', 'to', 'qrl', 'and', 'it', 'is', 'go', 'to', 'launch', 'the', 'mainnet', 'on', 'q1', '2018', 'there', 'is', 'your', 'opportun'], ['from', 'what', 'i', 'understand', 'there', 'is', 'no', 'proof', 'that', 'tether', 'actual', 'ha', 'a', 'back', 'of', '1', 'usd', 'if', 'the', 'compani', 'that', 'control', 'the', 'suppli', 'of', 'tether', 'print', 'more', 'tether', 'freeli', 'without', 'the', 'back', 'and', 'then', 'bought', 'bitcoin', 'with', 'it', 'bitcoin', 'would', 'be', 'overvalu'], ['monero', 'will', 'neve', 'scale', 'it', 'transact', 'size', 'is', '40x', 'time', 'larger', 'than', 'the', 'dash'], ['oh', 'great', 'anoth', 'comedi', 'post', 'what', 'the', 'hell', 'is', 'thi', 'cr', 'oh', 'hello', 'special', 'agent', 'cooper', 'thi', 'here', 'is', 'an', 'upvot'], ['eth', 'cannot', 'scale', 'it', 'cost', 'to', 'run', 'dapp', 'ga', 'dapp', 'develop', 'is', 'lacklustr', 'mine', 'is', 'environment', 'unfriendli', 'the', 'lion', 'share', 'of', 'ico', 'erc20', 'are', 'dead', 'coin', 'spin', 'answer', 'e', 'o', 's', 'look', 'at', 'the', 'chart', 'compar', 'the', 'price', 'of', 'etheo', 'the', 'write', 'is', 'on', 'the', 'wall', 'for', 'eth', 'thank', 'me', 'later', 'peac'], ['you', 'op', 'are', 'a', 'potato'], ['mmmmkay', 'mayb', 'we', 'can', 'talk', 'about', 'thi', 'lateraft', 'theyv', 'had', 'the', 'summit', 'and', 'then', 'we', 'can', 'discus', 'the', 'outcom', 'of', 'that', 'summit', 'good', 'and', 'bad', 'good', 'news', 'isnt', 'worth', 'two', 'bob', 'becaus', 'it', 'could', 'just', 'be', 'lip', 'servic', 'ive', 'learn', 'never', 'to', 'trust', 'govern', 'offici', 'not', 'to', 'backflip', 'in', 'all', 'likelihood', 'itll', 'be', 'finebut', 'sadli', 'i', 'dont', 'have', 'the', 'clairvoy', 'to', 'be', 'a', 'fortun', 'teller', 'a', 'my', 'crystal', 'ball', 'is', 'cloudi'], ['see', 'i', 'got', 'into', 'tron', 'for', 'thi', 'reason', 'a', 'next', 'era', 'of', 'web', '40', 'for', 'me', 'use', 'block', 'chain', 'i', 'saw', 'the', 'project', 'go', 'down', 'an', 'encrypt', 'www', 'where', 'govermnet', 'could', 'not', 'shut', 'down', 'or', 'block', 'free', 'speach', 'limit', 'access', 'to', 'specif', 'site', 'when', 'upris', 'start', 'and', 'not', 'just', 'that', 'but', 'give', 'a', 'way', 'to', 'get', 'around', 'a', 'possibl', 'net', 'neutral', 'that', 'could', 'soon', 'effect', 'everyon', 'that', 'wa', 'my', 'vision', 'for', 'it', 'and', 'my', 'interperit', 'of', 'thi', 'the', 'protocol', 'allow', 'each', 'user', 'to', 'freeli', 'publish', 'store', 'and', 'own', 'data', 'and', 'in', 'the', 'decentr', 'autonom', 'form', 'decid', 'the', 'distribut', 'subscript', 'and', 'push', 'of', 'content', 'and', 'enabl', 'content', 'creator', 'by', 'releas', 'circul', 'and', 'deal', 'with', 'digit', 'asset', 'thu', 'form', 'a', 'decentr', 'content', 'entertain', 'ecosystem', 'to', 'me', 'i', 'read', 'that', 'a', 'the', 'internet', 'but', 'i', 'know', 'other', 'see', 'it', 'a', 'some', 'kind', 'of', 'game', 'video', 'and', 'music', 'share', 'and', 'or', 'payment', 'featur', 'i', 'dont', 'get', 'everyth', 'tron', 'is', 'do', 'the', 'translat', 'dont', 'help', 'but', 'that', 'is', 'someth', 'they', 'said', 'they', 'would', 'work', 'on', 'now', 'the', 'constant', 'hype', 'thi', 'week', 'the', 'gamecom', 'domain', 'and', 'thi', 'dog', 'stuff', 'i', 'understand', 'from', 'a', 'market', 'point', 'whi', 'it', 'done', 'but', 'i', 'dont', 'think', 'it', 'the', 'direct', 'i', 'origin', 'bought', 'in', 'for', 'so', 'my', 'plan', 'is', 'to', 'just', 'ride', 'till', 'it', 'and', 'if', 'i', 'hit', '£05077', 'or', 'higher', 'and', 'then', 'cash', 'out', 'leav', '10100', 'tron', 'behind', 'for', 'a', 'what', 'if', 'it', 'will', 'have', 'surv', 'it', 'purpos', 'i', 'think', 'everi', 'crypto', 'is', 'bullshit', 'if', 'you', 'read', 'on', 'here', 'or', 'check', 'daili', 'your', 'here', 'for', 'money', 'noth', 'el', 'chang', 'the', 'world', 'and', 'break', 'the', 'bank', 'chain', 'ha', 'noth', 'to', 'do', 'with', 'it', 'tech', 'adapt', 'money', 'everyth', 'doe', 'and', 'will', 'take', 'time', 'it', 'about', 'find', 'a', 'few', 'project', 'you', 'have', 'some', 'faith', 'in', 'and', 'then', 'weed', 'them', 'out', 'a', 'time', 'goe', 'on'], ['and', 'anoth', 'person', 'specul'], ['i', 'run', 'arch', 'but', 'thank', 'for', 'the', 'link'], ['what', 'go', 'on', 'with', 'kucoin', 'i', 'been', 'see', 'it', 'mention', 'a', 'lot', 'today', 'i', 'have', 'dbc', 'on', 'kucoin', 'at', 'the', 'moment'], ['becaus', 'big', 'money', 'can’t', 'put', 'larg', 'buy', 'and', 'sell', 'in', 'without', 'significantli', 'move', 'the', 'market', 'the', 'fact', 'that', 'whale', 'can', 'still', 'affect', 'the', 'market', 'is', 'becaus', 'of', 'the', 'illiquid', 'of', 'it', 'world', 'book', 'will', 'chang', 'that']]\n"
          ]
        }
      ]
    },
    {
      "cell_type": "markdown",
      "source": [
        "# **Remove Numbers**\n",
        "\n",
        "---\n",
        "\n"
      ],
      "metadata": {
        "id": "AmuiQHJ1eq3g"
      }
    },
    {
      "cell_type": "markdown",
      "source": [
        "## Check the presence of the numbers"
      ],
      "metadata": {
        "id": "uZXeOZT8wY3Q"
      }
    },
    {
      "cell_type": "code",
      "source": [
        "# Initialize a variable to keep track of whether numbers are found in the dataset\n",
        "numbers_found = False\n",
        "\n",
        "# Iterate through each text in the dataset\n",
        "for text_tokens in lemmatized_text_array:\n",
        "    # Iterate through each token in the text\n",
        "    for word in text_tokens:\n",
        "        # Check if the token contains numeric characters\n",
        "        if any(char.isdigit() for char in word):\n",
        "            numbers_found = True\n",
        "            break  # Exit the inner loop if a number is found\n",
        "    if numbers_found:\n",
        "        break  # Exit the outer loop if a number is found\n",
        "\n",
        "# Check if numbers are found in the dataset\n",
        "if numbers_found:\n",
        "    print(\"Numbers are present in the dataset.\")\n",
        "else:\n",
        "    print(\"No numbers found in the dataset.\")\n"
      ],
      "metadata": {
        "id": "JV2Q0BAMewIz",
        "colab": {
          "base_uri": "https://localhost:8080/"
        },
        "outputId": "adcf50fc-b0bb-435c-d7f3-715cdfdce9d0"
      },
      "execution_count": 15,
      "outputs": [
        {
          "output_type": "stream",
          "name": "stdout",
          "text": [
            "Numbers are present in the dataset.\n"
          ]
        }
      ]
    },
    {
      "cell_type": "markdown",
      "source": [
        "## Remove Numbers"
      ],
      "metadata": {
        "id": "6EFHJjIWxjWy"
      }
    },
    {
      "cell_type": "code",
      "source": [
        "# Initialize the list to store the dataset without numbers\n",
        "dataset_no_numbers = []\n",
        "\n",
        "# Iterate through each text in the lemmatized dataset\n",
        "for text_tokens in lemmatized_text_array:\n",
        "    # Filter out words containing numeric characters\n",
        "    filtered_text_tokens = [word for word in text_tokens if not any(char.isdigit() for char in word)]\n",
        "    # Append the filtered text tokens to the new dataset\n",
        "    dataset_no_numbers.append(filtered_text_tokens)\n",
        "\n",
        "# Print the first 5 elements of the new dataset\n",
        "print(dataset_no_numbers[:5])\n"
      ],
      "metadata": {
        "id": "nCeNuxvQe2aE",
        "colab": {
          "base_uri": "https://localhost:8080/"
        },
        "outputId": "14b8a53e-2016-4e42-fc13-b62f02a28a06"
      },
      "execution_count": 16,
      "outputs": [
        {
          "output_type": "stream",
          "name": "stdout",
          "text": [
            "[['i', 'am', 'go', 'to', 'take', 'a', 'slightli', 'differ', 'perspect', 'than', 'the', 'usual', 'poster', 'i', 'will', 'tell', 'you', 'what', 'the', 'point', 'of', 'cryptocurr', 'is', 'from', 'the', 'perspect', 'of', 'be', 'utilis', 'to', 'disrupt', 'a', 'corrupt', 'nich', 'industri', 'sinc', 'full', 'disclosur', 'one', 'of', 'the', 'project', 'i', 'am', 'most', 'passion', 'about', 'is', 'the', 'get', 'protocol', 'then', 'i', 'will', 'use', 'it', 'a', 'my', 'exampl', 'and', 'tell', 'you', 'whi', 'the', 'ticket', 'industri', 'can', 'benefit', 'from', 'blockchain', 'and', 'cryptocurr', 'and', 'whi', 'the', 'averag', 'person', 'will', 'be', 'better', 'off', 'so', 'firstli', 'let', 'discus', 'the', 'current', 'issu', 'right', 'now', 'a', 'it', 'stand', 'the', 'ticket', 'industri', 'is', 'incred', 'corrupt', 'with', 'profession', 'ticket', 'tout', 'snatch', 'ticket', 'off', 'primari', 'market', 'and', 'then', 'upsel', 'them', 'goug', 'the', 'fan', 'of', 'artist', 'comedian', 'entertain', 'and', 'so', 'forth', 'it', 'ha', 'becom', 'such', 'an', 'issu', 'that', 'mani', 'artist', 'are', 'now', 'tri', 'to', 'stand', 'up', 'to', 'give', 'their', 'fan', 'a', 'better', 'experi', 'but', 'websit', 'such', 'a', 'viagogo', 'and', 'even', 'some', 'of', 'ticketmast', 'own', 'secondari', 'resel', 'site', 'still', 'control', 'the', 'market', 'and', 'caus', 'havoc', 'for', 'those', 'tri', 'to', 'have', 'fair', 'price', 'for', 'event', 'it', 'wa', 'theoriz', 'in', 'the', 'begin', 'of', 'blockchain', 'that', 'ticket', 'wa', 'a', 'good', 'exampl', 'of', 'use', 'for', 'blockchain', 'and', 'lot', 'of', 'peopl', 'would', 'say', 'thi', 'wa', 'clich', 'but', 'it’', 'actual', 'veri', 'veri', 'use', 'thank', 'to', 'ethereum', 'main', 'net', 'the', 'resourc', 'were', 'in', 'place', 'to', 'get', 'start', 'solv', 'thi', 'issu', 'thi', 'is', 'where', 'amsterdam', 'base', 'gut', 'ticket', 'ha', 'come', 'in', 'to', 'solv', 'and', 'tackl', 'the', 'problem', 'with', 'their', 'soon', 'to', 'be', 'open', 'sourc', 'get', 'protocol', 'and', 'the', 'get', 'guarante', 'entranc', 'token', 'cryptocurr', 'a', 'littl', 'bit', 'of', 'prefac', 'about', 'gut', 'they', 'start', 'at', 'the', 'begin', 'of', 'by', 'develop', 'a', 'vision', 'of', 'a', 'ticket', 'applic', 'that', 'would', 'run', 'on', 'top', 'of', 'a', 'protocol', 'that', 'anyon', 'could', 'use', 'to', 'ticket', 'their', 'event', 'which', 'would', 'be', 'transpar', 'fair', 'and', 'easi', 'to', 'use', 'a', 'it', 'stand', 'the', 'gut', 'ticket', 'applic', 'is', 'take', 'the', 'netherland', 'by', 'storm', 'with', 'over', 'ticket', 'sold', 'and', 'million', 'be', 'solid', 'by', 'the', 'end', 'of', 'next', 'year', 'a', 'plethora', 'of', 'famou', 'dutch', 'artist', 'and', 'comedian', 'such', 'a', 'jochem', 'myjer', 'guu', 'meeuwi', 'and', 'even', 'french', 'superstar', 'zaz', 'use', 'gut', 'for', 'their', 'show', 'in', 'juli', 'of', 'thi', 'year', 'all', 'these', 'ticket', 'will', 'start', 'to', 'be', 'sold', 'on', 'the', 'ethereum', 'main', 'net', 'after', 'a', 'year', 'of', 'ticket', 'be', 'perform', 'through', 'the', 'kovan', 'ethereum', 'testnet', 'each', 'and', 'everi', 'smart', 'ticket', 'will', 'need', 'get', 'in', 'order', 'to', 'be', 'creat', 'the', 'get', 'back', 'each', 'and', 'everi', 'ticket', 'now', 'you', 'may', 'be', 'wonder', 'well', 'what', 'about', 'a', 'person', 'who', 'ha', 'no', 'care', 'for', 'blockchain', 'or', 'cryptocurr', 'let', 'take', 'year', 'old', 'hardcor', 'raver', 'dorri', 'for', 'exampl', 'she', 'love', 'her', 'rave', 'but', 'hate', 'technolog', 'and', 'doesn’t', 'care', 'for', 'it', 'you', 'know', 'for', 'certain', 'she', 'won’t', 'have', 'a', 'clue', 'about', 'crypto', 'for', 'reason', 'like', 'thi', 'the', 'gut', 'team', 'have', 'design', 'everyth', 'so', 'that', 'it', 'give', 'the', 'best', 'user', 'experi', 'possibl', 'through', 'the', 'gut', 'ticket', 'app', 'websit', 'or', 'artist', 'page', 'ticket', 'can', 'be', 'purchas', 'in', 'fiat', 'the', 'event', 'goer', 'never', 'know', 'that', 'crypto', 'or', 'blockchain', 'is', 'use', 'a', 'it', 'is', 'all', 'in', 'the', 'background', 'drive', 'the', 'user', 'experi', 'the', 'ticket', 'are', 'tie', 'to', 'the', 'user', 'smartphon', 'and', 'have', 'a', 'seri', 'of', 'measur', 'in', 'place', 'to', 'prevent', 'ticket', 'resel', 'such', 'a', 'shuffl', 'dynam', 'qr', 'code', 'that', 'cannot', 'be', 'screenshot', 'and', 'resold', 'aswel', 'a', 'each', 'ticket', 'be', 'tie', 'to', 'an', 'individu', 'sim', 'of', 'the', 'user', 'phone', 'the', 'blockchain', 'drive', 'the', 'user', 'experi', 'is', 'exactli', 'what', 'blockchain', 'need', 'to', 'thrive', 'it', 'should', 'be', 'use', 'to', 'power', 'great', 'piec', 'of', 'softwar', 'and', 'tech', 'becaus', 'of', 'the', 'gener', 'popul', 'won’t', 'care', 'about', 'blockchain', 'they', 'will', 'simpli', 'care', 'about', 'the', 'cool', 'app', 'that', 'come', 'with', 'it', 'so', 'after', 'juli', 'thousand', 'of', 'ticket', 'will', 'be', 'sold', 'that', 'are', 'back', 'by', 'get', 'but', 'purchas', 'by', 'the', 'end', 'user', 'in', 'fiat', 'thank', 'to', 'get', 'each', 'ticket', 'lifecycl', 'can', 'be', 'track', 'on', 'the', 'blockchain', 'each', 'ticket', 'state', 'such', 'a', 'bought', 'scan', 'sold', 'etc', 'can', 'be', 'record', 'and', 'track', 'by', 'anyon', 'and', 'everyon', 'a', 'tech', 'mind', 'fan', 'an', 'artist', 'want', 'fairer', 'system', 'for', 'their', 'fan', 'a', 'venu', 'need', 'easili', 'audit', 'ticket', 'solut', 'the', 'potenc', 'of', 'cryptocurr', 'is', 'fulli', 'unlock', 'but', 'ha', 'zero', 'of', 'the', 'downfal', 'with', 'tradit', 'have', 'to', 'buy', 'cryptocurr', 'from', 'an', 'exchang', 'the', 'get', 'protocol', 'will', 'be', 'fulli', 'open', 'sourc', 'sometim', 'next', 'year', 'mean', 'anyon', 'and', 'everyon', 'can', 'set', 'up', 'and', 'ticket', 'event', 'on', 'the', 'protocol', 'thi', 'mean', 'ani', 'ticket', 'compani', 'look', 'for', 'a', 'fairer', 'backend', 'ani', 'bud', 'artist', 'need', 'a', 'ticket', 'solut', 'that', 'is', 'open', 'and', 'far', 'easier', 'than', 'use', 'tradit', 'compani', 'can', 'do', 'so', 'in', 'a', 'fair', 'and', 'fulli', 'control', 'manner', 'now', 'let', 'get', 'on', 'to', 'whi', 'you', 'a', 'a', 'crypto', 'investor', 'may', 'care', 'for', 'get', 'token', 'firstli', 'a', 'mention', 'they', 'are', 'need', 'for', 'everi', 'ticket', 'sold', 'on', 'the', 'protocol', 'a', 'well', 'a', 'though', 'through', 'gut', 'ticket', 'applic', 'there', 'are', 'onli', 'million', 'token', 'in', 'circul', 'with', 'a', 'max', 'circul', 'suppli', 'of', 'million', 'get', 'each', 'event', 'on', 'the', 'protocol', 'will', 'purchas', 'get', 'from', 'a', 'stabilti', 'fund', 'which', 'is', 'in', 'place', 'that', 'never', 'touch', 'the', 'circul', 'suppli', 'onc', 'get', 'is', 'purchas', 'from', 'the', 'sf', 'the', 'sf', 'must', 'replenish', 'itself', 'by', 'place', 'buy', 'contract', 'on', 'exchang', 'these', 'will', 'be', 'place', 'use', 'a', 'price', 'oracl', 'and', 'will', 'be', 'set', 'at', 'the', 'averag', 'price', 'of', 'each', 'get', 'on', 'exchang', 'thi', 'will', 'have', 'a', 'major', 'effect', 'on', 'posit', 'price', 'action', 'drive', 'up', 'demand', 'for', 'get', 'significantli', 'for', 'exampl', 'ticket', 'on', 'the', 'gut', 'applic', 'will', 'buy', 'approxim', 'usd', 'worth', 'of', 'get', 'off', 'the', 'exchang', 'which', 'can', 'not', 'onli', 'make', 'volum', 'far', 'greater', 'than', 'the', 'averag', 'crypto', 'sinc', 'there', 'are', 'extern', 'sourc', 'at', 'play', 'but', 'help', 'allevi', 'ani', 'downward', 'sell', 'pressur', 'ive', 'told', 'you', 'about', 'the', 'potenti', 'of', 'get', 'be', 'use', 'and', 'the', 'fact', 'that', 'the', 'protocol', 'can', 'be', 'use', 'to', 'ticket', 'event', 'for', 'theatr', 'sport', 'game', 'festiv', 'but', 'it', 'can', 'even', 'be', 'use', 'for', 'public', 'transport', 'flight', 'ticket', 'and', 'the', 'possibl', 'is', 'endless', 'i', 'hope', 'you', 'guy', 'see', 'the', 'potenti', 'in', 'thi', 'too', 'and', 'let', 'me', 'know', 'if', 'you', 'have', 'ani', 'question'], ['i', 'love', 'the', 'look', 'of', 'ark', 'from', 'what', 'i', 'read', 'what', 'i', 'find', 'annoy', 'is', 'their', 'roadmap', 'in', 'the', 'circl', 'with', 'complet', 'with', 'no', 'timelin', 'attach', 'to', 'anyth', 'if', 'peopl', 'are', 'go', 'to', 'mass', 'invest', 'we', 'need', 'timelin', 'project', 'date', 'of', 'complet', 'etc', 'there', 'calendar', 'is', 'empti', 'in', 'the', 'forseeabl', 'futur', 'from', 'what', 'i', 'could', 'find', 'can', 'you', 'shed', 'ani', 'light', 'on', 'thi'], ['how', 'about', 'the', 'peopl', 'that', 'did', 'it', 'right', 'and', 'didnt', 'get', 'their', 'fund', 'stolen'], ['i', 'think', 'so', 'pbl', 'prl', 'and', 'dbc', 'are', 'great', 'project', 'bnti', 'announc', 'yesterday', 'that', 'they', 'are', 'gonna', 'be', 'on', 'anoth', 'exchang', 'last'], ['defin', 'they', 'are', 'more', 'visionari', 'then', 'mani', 'other', 'countri', 'fude', 'the', 'market', 'now', 'the', 'govern', 'grasp', 'the', 'valu', 'and', 'inevit', 'of', 'blockchain', 'technolog', 'now', 'rather', 'then', 'stifl', 'innov', 'they', 'embrac', 'it', 'to', 'establish', 'a', 'firm', 'foothold', 'in', 'the', 'industri', 'all', 'at', 'the', 'same', 'time', 'establish', 'clear', 'guidelin', 'on', 'crypto', 'trade', 'now', 'that', 'smart', 'pragmat', 'govern', '👍👍']]\n"
          ]
        }
      ]
    },
    {
      "cell_type": "markdown",
      "source": [
        "## Check the presence of the numbers after remove"
      ],
      "metadata": {
        "id": "LtX4cTBvxWgQ"
      }
    },
    {
      "cell_type": "code",
      "source": [
        "# Initialize a variable to keep track of whether numbers are found in the dataset\n",
        "numbers_found = False\n",
        "\n",
        "# Iterate through each text in the dataset\n",
        "for text_tokens in dataset_no_numbers:\n",
        "    # Iterate through each token in the text\n",
        "    for word in text_tokens:\n",
        "        # Check if the token contains numeric characters\n",
        "        if any(char.isdigit() for char in word):\n",
        "            numbers_found = True\n",
        "            break  # Exit the inner loop if a number is found\n",
        "    if numbers_found:\n",
        "        break  # Exit the outer loop if a number is found\n",
        "\n",
        "# Check if numbers are found in the dataset\n",
        "if numbers_found:\n",
        "    print(\"Numbers are present in the dataset.\")\n",
        "else:\n",
        "    print(\"No numbers found in the dataset.\")"
      ],
      "metadata": {
        "colab": {
          "base_uri": "https://localhost:8080/"
        },
        "id": "bHvcF9gKxOWf",
        "outputId": "c34af685-5ae3-4fa4-fb0a-22dbec70c94b"
      },
      "execution_count": 17,
      "outputs": [
        {
          "output_type": "stream",
          "name": "stdout",
          "text": [
            "No numbers found in the dataset.\n"
          ]
        }
      ]
    },
    {
      "cell_type": "markdown",
      "source": [
        "As it is shown after removeing we do not have any numbers in our dataset."
      ],
      "metadata": {
        "id": "wzen9X_Kxm3G"
      }
    },
    {
      "cell_type": "markdown",
      "source": [
        "# **Remove Stopwords**\n",
        "\n",
        "---\n",
        "\n"
      ],
      "metadata": {
        "id": "qGaRe3qD8eDv"
      }
    },
    {
      "cell_type": "markdown",
      "source": [
        "## Count the number of stopwords"
      ],
      "metadata": {
        "id": "4rsQYlIg-zAo"
      }
    },
    {
      "cell_type": "code",
      "source": [],
      "metadata": {
        "id": "cEJ7Sh-Ww4Nz"
      },
      "execution_count": 17,
      "outputs": []
    },
    {
      "cell_type": "code",
      "source": [
        "# Load the stopwords for English\n",
        "stop_words = set(stopwords.words('english'))\n",
        "\n",
        "# Initialize an empty list to store the stopword count for each text\n",
        "stopword_count_per_text = []\n",
        "\n",
        "# Iterate through each text in the dataset_no_numbers\n",
        "for text_tokens in dataset_no_numbers:\n",
        "    # Count the number of stopwords in each text\n",
        "    stopword_count = len([word for word in text_tokens if word.lower() in stop_words])\n",
        "    # Append the stopword count to the list\n",
        "    stopword_count_per_text.append(stopword_count)\n",
        "\n",
        "# sum up the stopword counts to get the total number of stopwords\n",
        "total_stopword_count = sum(stopword_count_per_text)\n",
        "\n",
        "# Print the total number of stopwords in the dataset\n",
        "print(\"Total number of stopwords in the dataset:\", total_stopword_count)"
      ],
      "metadata": {
        "colab": {
          "base_uri": "https://localhost:8080/"
        },
        "id": "obaUeEBW-39o",
        "outputId": "97596748-5758-42ec-8d26-abc1689b2e0b"
      },
      "execution_count": 18,
      "outputs": [
        {
          "output_type": "stream",
          "name": "stdout",
          "text": [
            "Total number of stopwords in the dataset: 8559686\n"
          ]
        }
      ]
    },
    {
      "cell_type": "markdown",
      "source": [
        "In our dataset, there are 8567348 stopwords that need to be removed."
      ],
      "metadata": {
        "id": "bTT-6LsV_eDs"
      }
    },
    {
      "cell_type": "markdown",
      "source": [
        "## Remove Stop Words"
      ],
      "metadata": {
        "id": "2Tk70LAoEMMo"
      }
    },
    {
      "cell_type": "code",
      "source": [
        "# Get the list of English stopwords\n",
        "stop_words = set(stopwords.words('english'))\n",
        "# Remove stop words\n",
        "dataset_no_stopwords = [[word for word in sublist if word.lower() not in stop_words] for sublist in dataset_no_numbers]\n",
        "\n"
      ],
      "metadata": {
        "id": "NWLrvZ8V3sf0"
      },
      "execution_count": 19,
      "outputs": []
    },
    {
      "cell_type": "markdown",
      "source": [
        "## The Number of Stopwords After Remove\n"
      ],
      "metadata": {
        "id": "kUo12Mg4EXMu"
      }
    },
    {
      "cell_type": "code",
      "source": [
        "# Initialize an empty list to store the stopword count for each text\n",
        "stopword_count_per_text = []\n",
        "\n",
        "# Iterate through each text in the tokenized dataset\n",
        "for text_tokens in dataset_no_stopwords :\n",
        "    # Count the number of stopwords in each text\n",
        "    stopword_count = len([word for word in text_tokens if word.lower() in stop_words])\n",
        "    # Append the stopword count to the list\n",
        "    stopword_count_per_text.append(stopword_count)\n",
        "\n",
        "# sum up the stopword counts to get the total number of stopwords\n",
        "total_stopword_count = sum(stopword_count_per_text)\n",
        "\n",
        "# Print the total number of stopwords in the dataset\n",
        "print(\"Total number of stopwords in the dataset:\", total_stopword_count)"
      ],
      "metadata": {
        "id": "YRsCwVTT93G-",
        "colab": {
          "base_uri": "https://localhost:8080/"
        },
        "outputId": "74670e3c-d718-49b9-db20-c029a5b9cb28"
      },
      "execution_count": 20,
      "outputs": [
        {
          "output_type": "stream",
          "name": "stdout",
          "text": [
            "Total number of stopwords in the dataset: 0\n"
          ]
        }
      ]
    },
    {
      "cell_type": "markdown",
      "source": [
        "Now it appears that there are no stop words present in our dataset."
      ],
      "metadata": {
        "id": "wn1a7oWM_w3Q"
      }
    },
    {
      "cell_type": "code",
      "source": [
        "print(dataset_no_stopwords[:50])"
      ],
      "metadata": {
        "colab": {
          "base_uri": "https://localhost:8080/"
        },
        "id": "HGM1CPC1tYNI",
        "outputId": "5512c1ee-1ebe-4cc2-f716-4facc24fb8d2"
      },
      "execution_count": 21,
      "outputs": [
        {
          "output_type": "stream",
          "name": "stdout",
          "text": [
            "[['go', 'take', 'slightli', 'differ', 'perspect', 'usual', 'poster', 'tell', 'point', 'cryptocurr', 'perspect', 'utilis', 'disrupt', 'corrupt', 'nich', 'industri', 'sinc', 'full', 'disclosur', 'one', 'project', 'passion', 'get', 'protocol', 'use', 'exampl', 'tell', 'whi', 'ticket', 'industri', 'benefit', 'blockchain', 'cryptocurr', 'whi', 'averag', 'person', 'better', 'firstli', 'let', 'discus', 'current', 'issu', 'right', 'stand', 'ticket', 'industri', 'incred', 'corrupt', 'profession', 'ticket', 'tout', 'snatch', 'ticket', 'primari', 'market', 'upsel', 'goug', 'fan', 'artist', 'comedian', 'entertain', 'forth', 'ha', 'becom', 'issu', 'mani', 'artist', 'tri', 'stand', 'give', 'fan', 'better', 'experi', 'websit', 'viagogo', 'even', 'ticketmast', 'secondari', 'resel', 'site', 'still', 'control', 'market', 'caus', 'havoc', 'tri', 'fair', 'price', 'event', 'wa', 'theoriz', 'begin', 'blockchain', 'ticket', 'wa', 'good', 'exampl', 'use', 'blockchain', 'lot', 'peopl', 'would', 'say', 'thi', 'wa', 'clich', 'it’', 'actual', 'veri', 'veri', 'use', 'thank', 'ethereum', 'main', 'net', 'resourc', 'place', 'get', 'start', 'solv', 'thi', 'issu', 'thi', 'amsterdam', 'base', 'gut', 'ticket', 'ha', 'come', 'solv', 'tackl', 'problem', 'soon', 'open', 'sourc', 'get', 'protocol', 'get', 'guarante', 'entranc', 'token', 'cryptocurr', 'littl', 'bit', 'prefac', 'gut', 'start', 'begin', 'develop', 'vision', 'ticket', 'applic', 'would', 'run', 'top', 'protocol', 'anyon', 'could', 'use', 'ticket', 'event', 'would', 'transpar', 'fair', 'easi', 'use', 'stand', 'gut', 'ticket', 'applic', 'take', 'netherland', 'storm', 'ticket', 'sold', 'million', 'solid', 'end', 'next', 'year', 'plethora', 'famou', 'dutch', 'artist', 'comedian', 'jochem', 'myjer', 'guu', 'meeuwi', 'even', 'french', 'superstar', 'zaz', 'use', 'gut', 'show', 'juli', 'thi', 'year', 'ticket', 'start', 'sold', 'ethereum', 'main', 'net', 'year', 'ticket', 'perform', 'kovan', 'ethereum', 'testnet', 'everi', 'smart', 'ticket', 'need', 'get', 'order', 'creat', 'get', 'back', 'everi', 'ticket', 'may', 'wonder', 'well', 'person', 'ha', 'care', 'blockchain', 'cryptocurr', 'let', 'take', 'year', 'old', 'hardcor', 'raver', 'dorri', 'exampl', 'love', 'rave', 'hate', 'technolog', 'doesn’t', 'care', 'know', 'certain', 'won’t', 'clue', 'crypto', 'reason', 'like', 'thi', 'gut', 'team', 'design', 'everyth', 'give', 'best', 'user', 'experi', 'possibl', 'gut', 'ticket', 'app', 'websit', 'artist', 'page', 'ticket', 'purchas', 'fiat', 'event', 'goer', 'never', 'know', 'crypto', 'blockchain', 'use', 'background', 'drive', 'user', 'experi', 'ticket', 'tie', 'user', 'smartphon', 'seri', 'measur', 'place', 'prevent', 'ticket', 'resel', 'shuffl', 'dynam', 'qr', 'code', 'cannot', 'screenshot', 'resold', 'aswel', 'ticket', 'tie', 'individu', 'sim', 'user', 'phone', 'blockchain', 'drive', 'user', 'experi', 'exactli', 'blockchain', 'need', 'thrive', 'use', 'power', 'great', 'piec', 'softwar', 'tech', 'becaus', 'gener', 'popul', 'won’t', 'care', 'blockchain', 'simpli', 'care', 'cool', 'app', 'come', 'juli', 'thousand', 'ticket', 'sold', 'back', 'get', 'purchas', 'end', 'user', 'fiat', 'thank', 'get', 'ticket', 'lifecycl', 'track', 'blockchain', 'ticket', 'state', 'bought', 'scan', 'sold', 'etc', 'record', 'track', 'anyon', 'everyon', 'tech', 'mind', 'fan', 'artist', 'want', 'fairer', 'system', 'fan', 'venu', 'need', 'easili', 'audit', 'ticket', 'solut', 'potenc', 'cryptocurr', 'fulli', 'unlock', 'ha', 'zero', 'downfal', 'tradit', 'buy', 'cryptocurr', 'exchang', 'get', 'protocol', 'fulli', 'open', 'sourc', 'sometim', 'next', 'year', 'mean', 'anyon', 'everyon', 'set', 'ticket', 'event', 'protocol', 'thi', 'mean', 'ani', 'ticket', 'compani', 'look', 'fairer', 'backend', 'ani', 'bud', 'artist', 'need', 'ticket', 'solut', 'open', 'far', 'easier', 'use', 'tradit', 'compani', 'fair', 'fulli', 'control', 'manner', 'let', 'get', 'whi', 'crypto', 'investor', 'may', 'care', 'get', 'token', 'firstli', 'mention', 'need', 'everi', 'ticket', 'sold', 'protocol', 'well', 'though', 'gut', 'ticket', 'applic', 'onli', 'million', 'token', 'circul', 'max', 'circul', 'suppli', 'million', 'get', 'event', 'protocol', 'purchas', 'get', 'stabilti', 'fund', 'place', 'never', 'touch', 'circul', 'suppli', 'onc', 'get', 'purchas', 'sf', 'sf', 'must', 'replenish', 'place', 'buy', 'contract', 'exchang', 'place', 'use', 'price', 'oracl', 'set', 'averag', 'price', 'get', 'exchang', 'thi', 'major', 'effect', 'posit', 'price', 'action', 'drive', 'demand', 'get', 'significantli', 'exampl', 'ticket', 'gut', 'applic', 'buy', 'approxim', 'usd', 'worth', 'get', 'exchang', 'onli', 'make', 'volum', 'far', 'greater', 'averag', 'crypto', 'sinc', 'extern', 'sourc', 'play', 'help', 'allevi', 'ani', 'downward', 'sell', 'pressur', 'ive', 'told', 'potenti', 'get', 'use', 'fact', 'protocol', 'use', 'ticket', 'event', 'theatr', 'sport', 'game', 'festiv', 'even', 'use', 'public', 'transport', 'flight', 'ticket', 'possibl', 'endless', 'hope', 'guy', 'see', 'potenti', 'thi', 'let', 'know', 'ani', 'question'], ['love', 'look', 'ark', 'read', 'find', 'annoy', 'roadmap', 'circl', 'complet', 'timelin', 'attach', 'anyth', 'peopl', 'go', 'mass', 'invest', 'need', 'timelin', 'project', 'date', 'complet', 'etc', 'calendar', 'empti', 'forseeabl', 'futur', 'could', 'find', 'shed', 'ani', 'light', 'thi'], ['peopl', 'right', 'didnt', 'get', 'fund', 'stolen'], ['think', 'pbl', 'prl', 'dbc', 'great', 'project', 'bnti', 'announc', 'yesterday', 'gonna', 'anoth', 'exchang', 'last'], ['defin', 'visionari', 'mani', 'countri', 'fude', 'market', 'govern', 'grasp', 'valu', 'inevit', 'blockchain', 'technolog', 'rather', 'stifl', 'innov', 'embrac', 'establish', 'firm', 'foothold', 'industri', 'time', 'establish', 'clear', 'guidelin', 'crypto', 'trade', 'smart', 'pragmat', 'govern', '👍👍'], ['shouldnt', 'matter', 'email', 'thing', 'check', 'btc', 'address', 'withdraw', 'correct', 'contact', 'support', 'becaus', 'may', 'issu', 'account'], ['ye', 'thi', 'would', 'help', 'would', 'read'], ['whi', 'loan', 'govern', 'money'], ['sadli', 'blockchain', 'isnt', 'solut'], ['arent', 'lol'], ['problem', 'don’t', 'drgn'], ['u', 'buy'], ['ever', 'get', 'lambo'], ['enjin', 'launch', 'minecraft', 'plug', 'exist', 'user', 'base'], ['well', 'guy', 'choic', 'quit', 'work', 'chain', 'decentr', 'work', 'got', 'etc', 'market', 'isnt', 'pay', 'like', 'thi', 'central', 'becaus', 'market', 'chose', 'someth', 'didnt'], ['hold', 'bat', 'look', 'good', 'thingsjust', 'also', 'common', 'sen', 'think', 'thi', 'import', 'comment', 'eth', 'current', 'price', 'look', 'mani', 'project', 'actual', 'use', 'ethereum', 'blockchain', 'thi', 'one', 'bat', 'clearli', 'ha', 'softwar', 'decentr', 'softwar', 'creation', 'capabl', 'whi', 'take', 'extra', 'time', 'build', 'peer', 'client', 'build', 'blockchain', 'attach', 'browser', 'deriv', 'isnt', 'founder', 'javascript', 'involv', 'thi', 'project'], ['yea', 'true', 'like', 'say', 'major', 'alway', 'go', 'wrong', 'etherdelta', 'one', 'worst', 'exchang', 'ever'], ['welcom', 'regul'], ['si', 'coin', 'soon', 'hit', 'cent', 'futur'], ['blockfolio', 'delta', 'better', 'though'], ['legit', 'get', 'project', 'launch', 'month', 'ago', 'expect', 'solid', 'end', 'year', 'februari', 'otn', 'blockchain', 'user', 'start', 'use', 'token', 'transact'], ['charli', 'lee', 'annoy', 'im', 'gonna', 'lie'], ['instant', 'ach', 'coinbas', 'ive', 'done', 'mani', 'time'], ['yeah', 'yeah', 'keep', 'repeat', 'thi', 'still', 'think', 'bullshit', 'miss', 'point'], ['achain', 'serious', 'undervalu', 'project', 'hold', 'month'], ['hmm', 'mayb', 'price', 'pump', 'dump', 'regardless', 'dev', 'shill', 'pumper', 'mayb', 'someon', 'got', 'wind', 'deal'], ['lambolaugh', 'broke', 'orific'], ['im', 'invest', 'trx', 'ha', 'made', 'money', 'hope', 'futur', 'use', 'vessel', 'increas', 'fund', 'short', 'term', 'buy', 'establish', 'coin', 'like', 'eth', 'still', 'buy', 'trx', 'dip', 'sell', 'high', 'pump', 'eth', 'reason', 'trx', 'get', 'bad', 'name', 'apart', 'obviou', 'fuck', 'whitepap', 'etc', 'make', 'trx', 'investor', 'look', 'immatur', 'let', 'peopl', 'buy', 'coin', 'make', 'invest', 'smart', 'wpuld', 'look', 'convert', 'ani', 'gain', 'long', 'term', 'solut'], ['theyll', 'come', 'someth', 'alway'], ['case', 'guy', 'didnt', 'notic', 'today', 'crypto', 'black', 'friday', 'crypto'], ['sincer', 'apolog', 'delay', 'occur', 'due', 'extrem', 'high', 'demand', 'eth', 'transact', 'includ', 'blockchain', 'transact', 'ha', 'push', 'receiv', 'coin', 'next', 'hour', 'thank', 'trust', 'appreci'], ['ahhh', 'thank'], ['price', 'go', 'major', 'publish', 'known', 'announc'], ['damn', 'almost', 'bought', 'thi', 'new', 'investor', 'thank'], ['bittrex', 'aid', 'binanc', 'life', 'boiiii'], ['worst', 'thing', 'someon', 'ha', 'ever', 'said'], ['line', 'back', 'vocal', 'song'], ['first', 'start', 'read', 'dont', 'know', 'youv', 'life', 'thing', 'went', 'hill', 'suddenli'], ['nobodi', 'pay', 'attent', 'qrl', 'go', 'launch', 'mainnet', 'opportun'], ['understand', 'proof', 'tether', 'actual', 'ha', 'back', 'usd', 'compani', 'control', 'suppli', 'tether', 'print', 'tether', 'freeli', 'without', 'back', 'bought', 'bitcoin', 'bitcoin', 'would', 'overvalu'], ['monero', 'neve', 'scale', 'transact', 'size', 'time', 'larger', 'dash'], ['oh', 'great', 'anoth', 'comedi', 'post', 'hell', 'thi', 'cr', 'oh', 'hello', 'special', 'agent', 'cooper', 'thi', 'upvot'], ['eth', 'cannot', 'scale', 'cost', 'run', 'dapp', 'ga', 'dapp', 'develop', 'lacklustr', 'mine', 'environment', 'unfriendli', 'lion', 'share', 'ico', 'dead', 'coin', 'spin', 'answer', 'e', 'look', 'chart', 'compar', 'price', 'etheo', 'write', 'wall', 'eth', 'thank', 'later', 'peac'], ['op', 'potato'], ['mmmmkay', 'mayb', 'talk', 'thi', 'lateraft', 'theyv', 'summit', 'discus', 'outcom', 'summit', 'good', 'bad', 'good', 'news', 'isnt', 'worth', 'two', 'bob', 'becaus', 'could', 'lip', 'servic', 'ive', 'learn', 'never', 'trust', 'govern', 'offici', 'backflip', 'likelihood', 'itll', 'finebut', 'sadli', 'dont', 'clairvoy', 'fortun', 'teller', 'crystal', 'ball', 'cloudi'], ['see', 'got', 'tron', 'thi', 'reason', 'next', 'era', 'web', 'use', 'block', 'chain', 'saw', 'project', 'go', 'encrypt', 'www', 'govermnet', 'could', 'shut', 'block', 'free', 'speach', 'limit', 'access', 'specif', 'site', 'upris', 'start', 'give', 'way', 'get', 'around', 'possibl', 'net', 'neutral', 'could', 'soon', 'effect', 'everyon', 'wa', 'vision', 'interperit', 'thi', 'protocol', 'allow', 'user', 'freeli', 'publish', 'store', 'data', 'decentr', 'autonom', 'form', 'decid', 'distribut', 'subscript', 'push', 'content', 'enabl', 'content', 'creator', 'releas', 'circul', 'deal', 'digit', 'asset', 'thu', 'form', 'decentr', 'content', 'entertain', 'ecosystem', 'read', 'internet', 'know', 'see', 'kind', 'game', 'video', 'music', 'share', 'payment', 'featur', 'dont', 'get', 'everyth', 'tron', 'translat', 'dont', 'help', 'someth', 'said', 'would', 'work', 'constant', 'hype', 'thi', 'week', 'gamecom', 'domain', 'thi', 'dog', 'stuff', 'understand', 'market', 'point', 'whi', 'done', 'dont', 'think', 'direct', 'origin', 'bought', 'plan', 'ride', 'till', 'hit', 'higher', 'cash', 'leav', 'tron', 'behind', 'surv', 'purpos', 'think', 'everi', 'crypto', 'bullshit', 'read', 'check', 'daili', 'money', 'noth', 'el', 'chang', 'world', 'break', 'bank', 'chain', 'ha', 'noth', 'tech', 'adapt', 'money', 'everyth', 'doe', 'take', 'time', 'find', 'project', 'faith', 'weed', 'time', 'goe'], ['anoth', 'person', 'specul'], ['run', 'arch', 'thank', 'link'], ['go', 'kucoin', 'see', 'mention', 'lot', 'today', 'dbc', 'kucoin', 'moment'], ['becaus', 'big', 'money', 'can’t', 'put', 'larg', 'buy', 'sell', 'without', 'significantli', 'move', 'market', 'fact', 'whale', 'still', 'affect', 'market', 'becaus', 'illiquid', 'world', 'book', 'chang']]\n"
          ]
        }
      ]
    },
    {
      "cell_type": "code",
      "source": [],
      "metadata": {
        "id": "YU_7-oQPE-4T"
      },
      "execution_count": 21,
      "outputs": []
    },
    {
      "cell_type": "markdown",
      "source": [
        "# **Tokenization & Numerical Representation for BERT**\n",
        "\n",
        "---\n",
        "\n",
        "\n",
        "In this step, we focus on the preparation of textual data to be used with the BERT (Bidirectional Encoder Representations from Transformers) model. This process involves two main components: tokenization and numerical representation. This step is crucial for BERT-based models because they require a specific input format to produce meaningful contextual embeddings"
      ],
      "metadata": {
        "id": "JNbCEgNTIeZ1"
      }
    },
    {
      "cell_type": "markdown",
      "source": [
        "## Check the Data type"
      ],
      "metadata": {
        "id": "0Nb3r9m47BGF"
      }
    },
    {
      "cell_type": "code",
      "source": [
        "def check_list_type(data_list):\n",
        "    if all(isinstance(item, str) for item in data_list):\n",
        "        return \"List of strings\"\n",
        "    elif all(isinstance(item, int) for item in data_list):\n",
        "        return \"List of integers\"\n",
        "    else:\n",
        "        return \"Mixed data types or empty list\"\n",
        "\n",
        "print(check_list_type(dataset_no_stopwords))  # Output: List of strings\n"
      ],
      "metadata": {
        "colab": {
          "base_uri": "https://localhost:8080/"
        },
        "id": "xPnvUVjD3WvX",
        "outputId": "ac26da86-83eb-4472-f766-e546ab63f3d5"
      },
      "execution_count": 22,
      "outputs": [
        {
          "output_type": "stream",
          "name": "stdout",
          "text": [
            "Mixed data types or empty list\n"
          ]
        }
      ]
    },
    {
      "cell_type": "markdown",
      "source": [
        "The BERT tokenizer expects a list of strings as input, where each string represents a text that we want to tokenize. As we can see the data type is not string so we need to flatten or dataset to be able to use it for BERT tokenizer."
      ],
      "metadata": {
        "id": "L4UG2sl86ruv"
      }
    },
    {
      "cell_type": "markdown",
      "source": [
        "## Flatten the Dataset\n",
        "\n",
        "In order to use the BERT tokenizer successfully, we need to flatten our dataset_no_stopwords list."
      ],
      "metadata": {
        "id": "IntCLOOB6Nob"
      }
    },
    {
      "cell_type": "code",
      "source": [
        "# Flatten the list of lists into a single list\n",
        "flat_dataset = [word for sublist in dataset_no_stopwords for word in sublist]"
      ],
      "metadata": {
        "id": "UJNqaAIy6ArX"
      },
      "execution_count": 23,
      "outputs": []
    },
    {
      "cell_type": "code",
      "source": [
        "print(flat_dataset[:50])"
      ],
      "metadata": {
        "colab": {
          "base_uri": "https://localhost:8080/"
        },
        "id": "fZqlCh-n6E-5",
        "outputId": "2d8205a1-31ab-4009-e920-8d3a7e45592b"
      },
      "execution_count": 24,
      "outputs": [
        {
          "output_type": "stream",
          "name": "stdout",
          "text": [
            "['go', 'take', 'slightli', 'differ', 'perspect', 'usual', 'poster', 'tell', 'point', 'cryptocurr', 'perspect', 'utilis', 'disrupt', 'corrupt', 'nich', 'industri', 'sinc', 'full', 'disclosur', 'one', 'project', 'passion', 'get', 'protocol', 'use', 'exampl', 'tell', 'whi', 'ticket', 'industri', 'benefit', 'blockchain', 'cryptocurr', 'whi', 'averag', 'person', 'better', 'firstli', 'let', 'discus', 'current', 'issu', 'right', 'stand', 'ticket', 'industri', 'incred', 'corrupt', 'profession', 'ticket']\n"
          ]
        }
      ]
    },
    {
      "cell_type": "markdown",
      "source": [
        "# **Tokenization**"
      ],
      "metadata": {
        "id": "WaDYehpECy44"
      }
    },
    {
      "cell_type": "code",
      "source": [
        "# Import the Fast Tokenizer\n",
        "from transformers import AutoTokenizer\n"
      ],
      "metadata": {
        "id": "m4h6LvUJ6ns8"
      },
      "execution_count": 25,
      "outputs": []
    },
    {
      "cell_type": "code",
      "source": [
        "# Load the Fast Tokenizer\n",
        "tokenizer = AutoTokenizer.from_pretrained(\"bert-base-uncased\")\n"
      ],
      "metadata": {
        "colab": {
          "base_uri": "https://localhost:8080/",
          "height": 145,
          "referenced_widgets": [
            "592f019f03ab421c9d9fc91580dff2d7",
            "c876c22046f7480b80f4ac9e51a11cde",
            "2e1e7a19a42242b0913bee8faa97f60b",
            "05064d25da334921bfea8b672d703b02",
            "04712d641d4941ecb1f342a1f305f25c",
            "2237daa98a244eefb5f595e564d57f0e",
            "ceb1eba972d747d88839c319fb654a95",
            "e70516113d1a439195b17c44587629e8",
            "6cf380114b254381a0572c88558437d2",
            "4cb2944d41704337b4450682e76aa125",
            "42fa53e64db148ea8f2e6d50cff87c55",
            "7fd064e7ca854c2bbde46122ddf108ba",
            "335e7eae3be447879a1bddcbacc06016",
            "e4696230b3904473921b7d5ef16f6abd",
            "7dbd4465911148ba9c9847414c99cf44",
            "6beefa28ee234224b5636eb5af812be5",
            "c8ba4ddcc31f4a1ebbdfefbdafcdbbc4",
            "b3d3f553be414f4e8796aec20fc55ef3",
            "70bd4512554346b4a7ee1665f9f6a452",
            "8c1581b329614176a092465b5065859b",
            "81904200cb9549c29d9ba19a9de0814a",
            "332f769bb1c840e29484facf7ba5d932",
            "01206c52562d4c2b9aa72e4132d4bf16",
            "9950a999d94b4cdda16b8ac366205970",
            "f7bd90bcc77341c9a52fb74e704f7a0e",
            "382e6dc2cc2b49c08b66b5e59c7ac79e",
            "d3eedd5a70d54544aa2459b34703dd40",
            "a7cf0f62ece84b3eae1f1cded04ee288",
            "71e985f2f029418b8ba776c88621ef7d",
            "8648fc8067794e11bd04e18dd7b187a5",
            "21e93570cd274f4c9b258b83a919a8ce",
            "9a76b56c08e64b3a84f61b52cb4181a6",
            "5b781e1532a4433282957554274c28e4",
            "0fe1606edffc4a1780d12203ee475c9c",
            "e472562b4f724c3a9bf9555d7541957d",
            "cf7b582de3614aba92d4590e3f60dbaa",
            "2920791028584b6ebbb246c168774a0a",
            "809d9fc6a87f41ceaa06f23ba8a963ba",
            "9d2ead61f58c4763ba205af9df230561",
            "82d1cd8136d2482cb7464dc8bb18e2cf",
            "6811860d2a9c4529b32114a5ba05e08a",
            "9151af1d63fd49368a0ce527159e781b",
            "2e3f4b3aecb240d6b2d9996d75f35916",
            "d586fbc03bba4d3d942a9b2e461fe834"
          ]
        },
        "id": "EBaWoorohWxn",
        "outputId": "22a5c2b0-abbe-4c01-a54d-291896b5beef"
      },
      "execution_count": 26,
      "outputs": [
        {
          "output_type": "display_data",
          "data": {
            "text/plain": [
              "Downloading (…)okenizer_config.json:   0%|          | 0.00/28.0 [00:00<?, ?B/s]"
            ],
            "application/vnd.jupyter.widget-view+json": {
              "version_major": 2,
              "version_minor": 0,
              "model_id": "592f019f03ab421c9d9fc91580dff2d7"
            }
          },
          "metadata": {}
        },
        {
          "output_type": "display_data",
          "data": {
            "text/plain": [
              "Downloading (…)lve/main/config.json:   0%|          | 0.00/570 [00:00<?, ?B/s]"
            ],
            "application/vnd.jupyter.widget-view+json": {
              "version_major": 2,
              "version_minor": 0,
              "model_id": "7fd064e7ca854c2bbde46122ddf108ba"
            }
          },
          "metadata": {}
        },
        {
          "output_type": "display_data",
          "data": {
            "text/plain": [
              "Downloading (…)solve/main/vocab.txt:   0%|          | 0.00/232k [00:00<?, ?B/s]"
            ],
            "application/vnd.jupyter.widget-view+json": {
              "version_major": 2,
              "version_minor": 0,
              "model_id": "01206c52562d4c2b9aa72e4132d4bf16"
            }
          },
          "metadata": {}
        },
        {
          "output_type": "display_data",
          "data": {
            "text/plain": [
              "Downloading (…)/main/tokenizer.json:   0%|          | 0.00/466k [00:00<?, ?B/s]"
            ],
            "application/vnd.jupyter.widget-view+json": {
              "version_major": 2,
              "version_minor": 0,
              "model_id": "0fe1606edffc4a1780d12203ee475c9c"
            }
          },
          "metadata": {}
        }
      ]
    },
    {
      "cell_type": "code",
      "source": [
        "# Tokenize Text\n",
        "tokenized_dataset = [tokenizer.tokenize(text) for text in flat_dataset]\n"
      ],
      "metadata": {
        "id": "2mrh7_7mhzyR"
      },
      "execution_count": 28,
      "outputs": []
    },
    {
      "cell_type": "code",
      "source": [
        "# Print the first 50 elements of the new dataset\n",
        "print(tokenized_dataset[:50])"
      ],
      "metadata": {
        "colab": {
          "base_uri": "https://localhost:8080/"
        },
        "id": "9urupFh5jh_2",
        "outputId": "d46d1ed1-b874-496a-94d1-6b084441a735"
      },
      "execution_count": 29,
      "outputs": [
        {
          "output_type": "stream",
          "name": "stdout",
          "text": [
            "[['go'], ['take'], ['slight', '##li'], ['differ'], ['per', '##sp', '##ect'], ['usual'], ['poster'], ['tell'], ['point'], ['crypt', '##oc', '##ur', '##r'], ['per', '##sp', '##ect'], ['ut', '##ilis'], ['disrupt'], ['corrupt'], ['nic', '##h'], ['indus', '##tri'], ['sin', '##c'], ['full'], ['disc', '##los', '##ur'], ['one'], ['project'], ['passion'], ['get'], ['protocol'], ['use'], ['exam', '##pl'], ['tell'], ['w', '##hi'], ['ticket'], ['indus', '##tri'], ['benefit'], ['block', '##chai', '##n'], ['crypt', '##oc', '##ur', '##r'], ['w', '##hi'], ['ave', '##rag'], ['person'], ['better'], ['first', '##li'], ['let'], ['discus'], ['current'], ['iss', '##u'], ['right'], ['stand'], ['ticket'], ['indus', '##tri'], ['inc', '##red'], ['corrupt'], ['profession'], ['ticket']]\n"
          ]
        }
      ]
    },
    {
      "cell_type": "markdown",
      "source": [
        "# **Save the Prepared Dataset**"
      ],
      "metadata": {
        "id": "0HHFxOOycKj7"
      }
    },
    {
      "cell_type": "code",
      "source": [
        "import pandas as pd\n",
        "\n",
        "\n",
        "# Create a DataFrame\n",
        "tokenized_df = pd.DataFrame({\"tokenized_text\": tokenized_dataset})\n",
        "\n",
        "# Define the path to save the CSV file\n",
        "csv_file_path = '/content/drive/My Drive/Dissertation/tokenized_dataset.csv'\n",
        "\n",
        "# Save the DataFrame as a CSV file\n",
        "tokenized_df.to_csv(csv_file_path, index=False)"
      ],
      "metadata": {
        "id": "K3m-RlYBqb3o"
      },
      "execution_count": 30,
      "outputs": []
    }
  ]
}